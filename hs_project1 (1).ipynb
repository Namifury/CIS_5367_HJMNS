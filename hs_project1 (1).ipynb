{
  "nbformat": 4,
  "nbformat_minor": 0,
  "metadata": {
    "colab": {
      "name": "hs_project1.ipynb",
      "provenance": [],
      "collapsed_sections": []
    },
    "kernelspec": {
      "name": "python3",
      "display_name": "Python 3"
    },
    "language_info": {
      "name": "python"
    }
  },
  "cells": [
    {
      "cell_type": "code",
      "execution_count": null,
      "metadata": {
        "id": "Epr_KzpUEIlD"
      },
      "outputs": [],
      "source": [
        "# Spark init#save the files in the g drive folder - first two commands\n",
        "!wget -q https://dlcdn.apache.org/spark/spark-3.1.2/spark-3.1.2-bin-hadoop2.7.tgz \n",
        "!tar xf spark-3.1.2-bin-hadoop2.7.tgz\n",
        "import os\n",
        "os.environ[\"JAVA_HOME\"] = \"/usr/lib/jvm/default-java\"\n",
        "os.environ[\"SPARK_HOME\"] = \"/content/spark-3.1.2-bin-hadoop2.7\"\n",
        "!pip install -q findspark\n",
        "import findspark\n",
        "findspark.init()"
      ]
    },
    {
      "cell_type": "code",
      "source": [
        "from pyspark.sql import SparkSession\n",
        "spark = SparkSession.builder\\\n",
        "        .master(\"local\")\\\n",
        "        .appName(\"Colab\")\\\n",
        "        .config('spark.ui.port', '4050')\\\n",
        "        .getOrCreate()"
      ],
      "metadata": {
        "id": "wgp_kKwML2_I"
      },
      "execution_count": null,
      "outputs": []
    },
    {
      "cell_type": "code",
      "source": [
        "from google.colab import drive\n",
        "drive.mount('/content/drive')"
      ],
      "metadata": {
        "colab": {
          "base_uri": "https://localhost:8080/"
        },
        "id": "zdrIB-i1MMCN",
        "outputId": "54decd4b-4b81-4ba7-f05c-cfdead611ae8"
      },
      "execution_count": null,
      "outputs": [
        {
          "output_type": "stream",
          "name": "stdout",
          "text": [
            "Mounted at /content/drive\n"
          ]
        }
      ]
    },
    {
      "cell_type": "code",
      "source": [
        "!head -5 /content/drive/MyDrive/Data/zip_code_market_tracker.tsv000"
      ],
      "metadata": {
        "colab": {
          "base_uri": "https://localhost:8080/"
        },
        "id": "NLjBKGjKMHnL",
        "outputId": "3ecc8530-95d9-4668-f283-604390cdec21"
      },
      "execution_count": null,
      "outputs": [
        {
          "output_type": "stream",
          "name": "stdout",
          "text": [
            "period_begin\tperiod_end\tperiod_duration\tregion_type\tregion_type_id\ttable_id\tis_seasonally_adjusted\tregion\tcity\tstate\tstate_code\tproperty_type\tproperty_type_id\tmedian_sale_price\tmedian_sale_price_mom\tmedian_sale_price_yoy\tmedian_list_price\tmedian_list_price_mom\tmedian_list_price_yoy\tmedian_ppsf\tmedian_ppsf_mom\tmedian_ppsf_yoy\tmedian_list_ppsf\tmedian_list_ppsf_mom\tmedian_list_ppsf_yoy\thomes_sold\thomes_sold_mom\thomes_sold_yoy\tpending_sales\tpending_sales_mom\tpending_sales_yoy\tnew_listings\tnew_listings_mom\tnew_listings_yoy\tinventory\tinventory_mom\tinventory_yoy\tmonths_of_supply\tmonths_of_supply_mom\tmonths_of_supply_yoy\tmedian_dom\tmedian_dom_mom\tmedian_dom_yoy\tavg_sale_to_list\tavg_sale_to_list_mom\tavg_sale_to_list_yoy\tsold_above_list\tsold_above_list_mom\tsold_above_list_yoy\tprice_drops\tprice_drops_mom\tprice_drops_yoy\toff_market_in_two_weeks\toff_market_in_two_weeks_mom\toff_market_in_two_weeks_yoy\tparent_metro_region\tparent_metro_region_metro_code\tlast_updated\n",
            "2017-07-01\t2017-09-30\t90\tzip code\t2\t25920\tf\tZip Code: 60201\t\tIllinois\tIL\tTownhouse\t13\t434000\t0.12581063553826199\t0.16666666666666674\t339000\t-0.23389830508474574\t-0.081300813008130079\t251.0239445494644\t0.018609646213858078\t0.20095205914733882\t255.19848771266541\t0.0078385863940841904\t0.057817565648353941\t12\t-0.19999999999999996\t-0.40000000000000002\t2\t-0.5\t1\t9\t-0.25\t0\t7\t0\t0\t\t\t\t11\t3.5\t-20\t0.97986271677433778\t-0.016152319295977824\t0.012620150249700757\t0.16666666666666666\t-0.10000000000000001\t0.066666666666666652\t\t\t\t0\t-0.25\t-1\tChicago, IL\t16984\t2022-01-09 14:29:56\n",
            "2019-06-01\t2019-08-31\t90\tzip code\t2\t8841\tf\tZip Code: 22310\t\tVirginia\tVA\tAll Residential\t-1\t489950\t0.010206185567010362\t0.062567772717414982\t489000\t-0.001837109614207022\t0.075908774377089427\t286.03777589872607\t0.0026376776239556143\t0.044037882030350195\t284.87878787878788\t-0.0027303288770796907\t0.044270114033540642\t140\t-0.10828025477707004\t-0.072847682119205337\t49\t0.13953488372093026\t0.088888888888888795\t150\t-0.15730337078651691\t-0.08536585365853655\t63\t-0.13698630136986301\t-0.25882352941176467\t\t\t\t18.5\t4.5\t8.5\t1.001960632514789\t-0.00094230208078416311\t0.00590154935726106\t0.48571428571428571\t-0.030209281164695179\t0.16121097445600757\t\t\t\t0.40816326530612246\t0.03607024205030851\t-0.080725623582766415\tWashington, DC\t47894\t2022-01-09 14:29:56\n",
            "2016-05-01\t2016-07-31\t90\tzip code\t2\t20543\tf\tZip Code: 48208\t\tMichigan\tMI\tMulti-Family (2-4 Unit)\t4\t279000\t0\t\t373500\t\t\t111.59999999999999\t0\t\t103.29092920353982\t\t\t1\t0\t\t1\t\t\t1\t\t\t2\t0\t\t\t\t\t16\t0\t\t1.0337161911819193\t0\t\t1\t0\t\t\t\t\t1\t\t\tDetroit, MI\t19804\t2022-01-09 14:29:56\n",
            "2013-03-01\t2013-05-31\t90\tzip code\t2\t7850\tf\tZip Code: 20132\t\tVirginia\tVA\tAll Residential\t-1\t450000\t-0.01098901098901095\t0.046755059316120118\t475000\t-0.03933663666700371\t0.010853373058097526\t143.36587716254769\t0.00035145632076183375\t0.028346427376104932\t157.44084896916257\t-0.011384445273755373\t-0.028567580901117107\t62\t0.51219512195121952\t-0.015873015873015928\t30\t0.034482758620689724\t0.034482758620689724\t114\t0.096153846153846256\t-0.06557377049180324\t90\t-0.021739130434782594\t-0.24369747899159666\t\t\t\t28\t-23\t-52\t0.97831632606393082\t0.010556293956753615\t-0.0042845754055692575\t0.30645161290322581\t0.038158929976396527\t0.14772145417306709\t\t\t\t0.5\t-0.12068965517241381\t0.12068965517241381\tWashington, DC\t47894\t2022-01-09 14:29:56\n"
          ]
        }
      ]
    },
    {
      "cell_type": "code",
      "source": [
        "df = spark.read.csv('/content/drive/MyDrive/Data/zip_code_market_tracker.tsv000', sep='\\t',header=True)"
      ],
      "metadata": {
        "id": "7R1m_UonETec"
      },
      "execution_count": null,
      "outputs": []
    },
    {
      "cell_type": "code",
      "source": [
        "df.show(5)"
      ],
      "metadata": {
        "colab": {
          "base_uri": "https://localhost:8080/"
        },
        "id": "0YfbyrIrMc9h",
        "outputId": "068d830f-a923-42e7-ab1b-f7d86397950a"
      },
      "execution_count": null,
      "outputs": [
        {
          "output_type": "stream",
          "name": "stdout",
          "text": [
            "+------------+----------+---------------+-----------+--------------+--------+----------------------+---------------+----+--------+----------+--------------------+----------------+-----------------+---------------------+---------------------+-----------------+---------------------+---------------------+------------------+--------------------+--------------------+------------------+--------------------+--------------------+----------+--------------------+--------------------+-------------+--------------------+--------------------+------------+--------------------+--------------------+---------+--------------------+--------------------+----------------+--------------------+--------------------+----------+--------------+--------------+-------------------+--------------------+--------------------+-------------------+--------------------+--------------------+-----------+---------------+---------------+-----------------------+---------------------------+---------------------------+-------------------+------------------------------+-------------------+\n",
            "|period_begin|period_end|period_duration|region_type|region_type_id|table_id|is_seasonally_adjusted|         region|city|   state|state_code|       property_type|property_type_id|median_sale_price|median_sale_price_mom|median_sale_price_yoy|median_list_price|median_list_price_mom|median_list_price_yoy|       median_ppsf|     median_ppsf_mom|     median_ppsf_yoy|  median_list_ppsf|median_list_ppsf_mom|median_list_ppsf_yoy|homes_sold|      homes_sold_mom|      homes_sold_yoy|pending_sales|   pending_sales_mom|   pending_sales_yoy|new_listings|    new_listings_mom|    new_listings_yoy|inventory|       inventory_mom|       inventory_yoy|months_of_supply|months_of_supply_mom|months_of_supply_yoy|median_dom|median_dom_mom|median_dom_yoy|   avg_sale_to_list|avg_sale_to_list_mom|avg_sale_to_list_yoy|    sold_above_list| sold_above_list_mom| sold_above_list_yoy|price_drops|price_drops_mom|price_drops_yoy|off_market_in_two_weeks|off_market_in_two_weeks_mom|off_market_in_two_weeks_yoy|parent_metro_region|parent_metro_region_metro_code|       last_updated|\n",
            "+------------+----------+---------------+-----------+--------------+--------+----------------------+---------------+----+--------+----------+--------------------+----------------+-----------------+---------------------+---------------------+-----------------+---------------------+---------------------+------------------+--------------------+--------------------+------------------+--------------------+--------------------+----------+--------------------+--------------------+-------------+--------------------+--------------------+------------+--------------------+--------------------+---------+--------------------+--------------------+----------------+--------------------+--------------------+----------+--------------+--------------+-------------------+--------------------+--------------------+-------------------+--------------------+--------------------+-----------+---------------+---------------+-----------------------+---------------------------+---------------------------+-------------------+------------------------------+-------------------+\n",
            "|  2017-07-01|2017-09-30|             90|   zip code|             2|   25920|                     f|Zip Code: 60201|null|Illinois|        IL|           Townhouse|              13|           434000|  0.12581063553826199|  0.16666666666666674|           339000| -0.23389830508474574| -0.08130081300813...| 251.0239445494644|0.018609646213858078| 0.20095205914733882|255.19848771266541|0.007838586394084...|0.057817565648353941|        12|-0.19999999999999996|-0.40000000000000002|            2|                -0.5|                   1|           9|               -0.25|                   0|        7|                   0|                   0|            null|                null|                null|        11|           3.5|           -20|0.97986271677433778|-0.01615231929597...|0.012620150249700757|0.16666666666666666|-0.10000000000000001|0.066666666666666652|       null|           null|           null|                      0|                      -0.25|                         -1|        Chicago, IL|                         16984|2022-01-09 14:29:56|\n",
            "|  2019-06-01|2019-08-31|             90|   zip code|             2|    8841|                     f|Zip Code: 22310|null|Virginia|        VA|     All Residential|              -1|           489950| 0.010206185567010362| 0.062567772717414982|           489000| -0.00183710961420...| 0.075908774377089427|286.03777589872607|0.002637677623955...|0.044037882030350195|284.87878787878788|-0.00273032887707...|0.044270114033540642|       140|-0.10828025477707004|-0.07284768211920...|           49| 0.13953488372093026|0.088888888888888795|         150|-0.15730337078651691|-0.08536585365853655|       63|-0.13698630136986301|-0.25882352941176467|            null|                null|                null|      18.5|           4.5|           8.5|  1.001960632514789|-0.00094230208078...| 0.00590154935726106|0.48571428571428571|-0.03020928116469...| 0.16121097445600757|       null|           null|           null|    0.40816326530612246|        0.03607024205030851|       -0.08072562358276...|     Washington, DC|                         47894|2022-01-09 14:29:56|\n",
            "|  2016-05-01|2016-07-31|             90|   zip code|             2|   20543|                     f|Zip Code: 48208|null|Michigan|        MI|Multi-Family (2-4...|               4|           279000|                    0|                 null|           373500|                 null|                 null|111.59999999999999|                   0|                null|103.29092920353982|                null|                null|         1|                   0|                null|            1|                null|                null|           1|                null|                null|        2|                   0|                null|            null|                null|                null|        16|             0|          null| 1.0337161911819193|                   0|                null|                  1|                   0|                null|       null|           null|           null|                      1|                       null|                       null|        Detroit, MI|                         19804|2022-01-09 14:29:56|\n",
            "|  2013-03-01|2013-05-31|             90|   zip code|             2|    7850|                     f|Zip Code: 20132|null|Virginia|        VA|     All Residential|              -1|           450000| -0.01098901098901095| 0.046755059316120118|           475000| -0.03933663666700371| 0.010853373058097526|143.36587716254769|0.000351456320761...|0.028346427376104932|157.44084896916257|-0.01138444527375...|-0.02856758090111...|        62| 0.51219512195121952|-0.01587301587301...|           30|0.034482758620689724|0.034482758620689724|         114|0.096153846153846256|-0.06557377049180324|       90|-0.02173913043478...|-0.24369747899159666|            null|                null|                null|        28|           -23|           -52|0.97831632606393082|0.010556293956753615|-0.00428457540556...|0.30645161290322581|0.038158929976396527| 0.14772145417306709|       null|           null|           null|                    0.5|       -0.12068965517241381|        0.12068965517241381|     Washington, DC|                         47894|2022-01-09 14:29:56|\n",
            "|  2014-10-01|2014-12-31|             90|   zip code|             2|   15119|                     f|Zip Code: 35758|null| Alabama|        AL|           Townhouse|              13|           125000|                    0|  0.27260140087962204|           124900| 0.041701417848206912|  0.43233944954128445|83.265306122448976|0.060914848698099933|0.097251700680272002|89.450620788856085|0.030743626324494011| 0.55578404219728261|         7|                   0| 0.39999999999999991|            1|                -0.5|                   0|           6|-0.33333333333333337|                 0.5|        7|              -0.125|-0.46153846153846156|            null|                null|                null|       207|             0|            53| 0.9668249660622974|-0.00188252114857...|-0.00131003758137...|0.14285714285714285|                   0|-0.25714285714285717|       null|           null|           null|                      0|                          0|                          0|     Huntsville, AL|                         26620|2022-01-09 14:29:56|\n",
            "+------------+----------+---------------+-----------+--------------+--------+----------------------+---------------+----+--------+----------+--------------------+----------------+-----------------+---------------------+---------------------+-----------------+---------------------+---------------------+------------------+--------------------+--------------------+------------------+--------------------+--------------------+----------+--------------------+--------------------+-------------+--------------------+--------------------+------------+--------------------+--------------------+---------+--------------------+--------------------+----------------+--------------------+--------------------+----------+--------------+--------------+-------------------+--------------------+--------------------+-------------------+--------------------+--------------------+-----------+---------------+---------------+-----------------------+---------------------------+---------------------------+-------------------+------------------------------+-------------------+\n",
            "only showing top 5 rows\n",
            "\n"
          ]
        }
      ]
    },
    {
      "cell_type": "code",
      "source": [
        "df_2 = df.drop(\"region_type\",\"region_type_id\",\"is_seasonally_adjusted\",\"city\",\"table_id\",\"period_duration\",\"months_of_supply\",\"price_drops\",\"median_sale_price_mom\", \"median_sale_price_yoy\",\"median_list_price_mom\",\"median_list_price_yoy\",\"median_ppsf_mom\",\"median_ppsf_yoy\",\"median_list_ppsf_mom\",\"median_list_ppsf_yoy\",\"homes_sold_mom\",\"homes_sold_yoy\", \"pending_sales_mom\",\"pending_sales_yoy\",\"new_listings_mom\",\"new_listings_yoy\",\"inventory_mom\",\"inventory_yoy\",\"months_of_supply_mom\",\"months_of_supply_yoy\",\"median_dom_mom\",\"median_dom_yoy\",\"avg_sale_to_list_mom\",\"avg_sale_to_list_yoy\",\"sold_above_list_mom\",\"sold_above_list_yoy\",\"price_drops_mom\",\"price_drops_yoy\",\"off_market_in_two_weeks_mom\",\"off_market_in_two_weeks_yoy\")"
      ],
      "metadata": {
        "id": "Fw7QxWt_MiB6"
      },
      "execution_count": null,
      "outputs": []
    },
    {
      "cell_type": "code",
      "source": [
        "df_2.show(5)"
      ],
      "metadata": {
        "colab": {
          "base_uri": "https://localhost:8080/"
        },
        "id": "dDo7N9mQMptF",
        "outputId": "0c874f33-f2d9-4dca-9022-d413c0f37980"
      },
      "execution_count": null,
      "outputs": [
        {
          "output_type": "stream",
          "name": "stdout",
          "text": [
            "+------------+----------+---------------+--------+----------+--------------------+----------------+-----------------+-----------------+------------------+------------------+----------+-------------+------------+---------+----------+-------------------+-------------------+-----------------------+-------------------+------------------------------+-------------------+\n",
            "|period_begin|period_end|         region|   state|state_code|       property_type|property_type_id|median_sale_price|median_list_price|       median_ppsf|  median_list_ppsf|homes_sold|pending_sales|new_listings|inventory|median_dom|   avg_sale_to_list|    sold_above_list|off_market_in_two_weeks|parent_metro_region|parent_metro_region_metro_code|       last_updated|\n",
            "+------------+----------+---------------+--------+----------+--------------------+----------------+-----------------+-----------------+------------------+------------------+----------+-------------+------------+---------+----------+-------------------+-------------------+-----------------------+-------------------+------------------------------+-------------------+\n",
            "|  2017-07-01|2017-09-30|Zip Code: 60201|Illinois|        IL|           Townhouse|              13|           434000|           339000| 251.0239445494644|255.19848771266541|        12|            2|           9|        7|        11|0.97986271677433778|0.16666666666666666|                      0|        Chicago, IL|                         16984|2022-01-09 14:29:56|\n",
            "|  2019-06-01|2019-08-31|Zip Code: 22310|Virginia|        VA|     All Residential|              -1|           489950|           489000|286.03777589872607|284.87878787878788|       140|           49|         150|       63|      18.5|  1.001960632514789|0.48571428571428571|    0.40816326530612246|     Washington, DC|                         47894|2022-01-09 14:29:56|\n",
            "|  2016-05-01|2016-07-31|Zip Code: 48208|Michigan|        MI|Multi-Family (2-4...|               4|           279000|           373500|111.59999999999999|103.29092920353982|         1|            1|           1|        2|        16| 1.0337161911819193|                  1|                      1|        Detroit, MI|                         19804|2022-01-09 14:29:56|\n",
            "|  2013-03-01|2013-05-31|Zip Code: 20132|Virginia|        VA|     All Residential|              -1|           450000|           475000|143.36587716254769|157.44084896916257|        62|           30|         114|       90|        28|0.97831632606393082|0.30645161290322581|                    0.5|     Washington, DC|                         47894|2022-01-09 14:29:56|\n",
            "|  2014-10-01|2014-12-31|Zip Code: 35758| Alabama|        AL|           Townhouse|              13|           125000|           124900|83.265306122448976|89.450620788856085|         7|            1|           6|        7|       207| 0.9668249660622974|0.14285714285714285|                      0|     Huntsville, AL|                         26620|2022-01-09 14:29:56|\n",
            "+------------+----------+---------------+--------+----------+--------------------+----------------+-----------------+-----------------+------------------+------------------+----------+-------------+------------+---------+----------+-------------------+-------------------+-----------------------+-------------------+------------------------------+-------------------+\n",
            "only showing top 5 rows\n",
            "\n"
          ]
        }
      ]
    },
    {
      "cell_type": "code",
      "source": [
        "import pyspark.sql.functions as func"
      ],
      "metadata": {
        "id": "nPudIOgsMwS3"
      },
      "execution_count": null,
      "outputs": []
    },
    {
      "cell_type": "code",
      "source": [
        "#Distinct count of states in Redfin Dataset\n",
        "df_states = df_2.select(\"state_code\").distinct().count()\n",
        "df_states"
      ],
      "metadata": {
        "colab": {
          "base_uri": "https://localhost:8080/"
        },
        "id": "_0-GltOQM2Xm",
        "outputId": "9852e7d2-76f2-4e13-fddf-31317de04394"
      },
      "execution_count": null,
      "outputs": [
        {
          "output_type": "execute_result",
          "data": {
            "text/plain": [
              "47"
            ]
          },
          "metadata": {},
          "execution_count": 12
        }
      ]
    },
    {
      "cell_type": "code",
      "source": [
        "#Calculating difference of list and sale price and the percentage of that difference\n",
        "df_3 = df_2.withColumn('DiffOfList&SalePrice', df_2.median_sale_price - df_2.median_list_price)"
      ],
      "metadata": {
        "id": "_E_nFyqiNv3W"
      },
      "execution_count": null,
      "outputs": []
    },
    {
      "cell_type": "code",
      "source": [
        "df_3.show(5)"
      ],
      "metadata": {
        "colab": {
          "base_uri": "https://localhost:8080/"
        },
        "id": "30ktYk0hPByI",
        "outputId": "b00fd20e-afb2-46a9-9ba2-1ea928ad0f41"
      },
      "execution_count": null,
      "outputs": [
        {
          "output_type": "stream",
          "name": "stdout",
          "text": [
            "+------------+----------+---------------+--------+----------+--------------------+----------------+-----------------+-----------------+------------------+------------------+----------+-------------+------------+---------+----------+-------------------+-------------------+-----------------------+-------------------+------------------------------+-------------------+--------------------+\n",
            "|period_begin|period_end|         region|   state|state_code|       property_type|property_type_id|median_sale_price|median_list_price|       median_ppsf|  median_list_ppsf|homes_sold|pending_sales|new_listings|inventory|median_dom|   avg_sale_to_list|    sold_above_list|off_market_in_two_weeks|parent_metro_region|parent_metro_region_metro_code|       last_updated|DiffOfList&SalePrice|\n",
            "+------------+----------+---------------+--------+----------+--------------------+----------------+-----------------+-----------------+------------------+------------------+----------+-------------+------------+---------+----------+-------------------+-------------------+-----------------------+-------------------+------------------------------+-------------------+--------------------+\n",
            "|  2017-07-01|2017-09-30|Zip Code: 60201|Illinois|        IL|           Townhouse|              13|           434000|           339000| 251.0239445494644|255.19848771266541|        12|            2|           9|        7|        11|0.97986271677433778|0.16666666666666666|                      0|        Chicago, IL|                         16984|2022-01-09 14:29:56|             95000.0|\n",
            "|  2019-06-01|2019-08-31|Zip Code: 22310|Virginia|        VA|     All Residential|              -1|           489950|           489000|286.03777589872607|284.87878787878788|       140|           49|         150|       63|      18.5|  1.001960632514789|0.48571428571428571|    0.40816326530612246|     Washington, DC|                         47894|2022-01-09 14:29:56|               950.0|\n",
            "|  2016-05-01|2016-07-31|Zip Code: 48208|Michigan|        MI|Multi-Family (2-4...|               4|           279000|           373500|111.59999999999999|103.29092920353982|         1|            1|           1|        2|        16| 1.0337161911819193|                  1|                      1|        Detroit, MI|                         19804|2022-01-09 14:29:56|            -94500.0|\n",
            "|  2013-03-01|2013-05-31|Zip Code: 20132|Virginia|        VA|     All Residential|              -1|           450000|           475000|143.36587716254769|157.44084896916257|        62|           30|         114|       90|        28|0.97831632606393082|0.30645161290322581|                    0.5|     Washington, DC|                         47894|2022-01-09 14:29:56|            -25000.0|\n",
            "|  2014-10-01|2014-12-31|Zip Code: 35758| Alabama|        AL|           Townhouse|              13|           125000|           124900|83.265306122448976|89.450620788856085|         7|            1|           6|        7|       207| 0.9668249660622974|0.14285714285714285|                      0|     Huntsville, AL|                         26620|2022-01-09 14:29:56|               100.0|\n",
            "+------------+----------+---------------+--------+----------+--------------------+----------------+-----------------+-----------------+------------------+------------------+----------+-------------+------------+---------+----------+-------------------+-------------------+-----------------------+-------------------+------------------------------+-------------------+--------------------+\n",
            "only showing top 5 rows\n",
            "\n"
          ]
        }
      ]
    },
    {
      "cell_type": "code",
      "source": [
        "from pyspark.sql.functions import *\n",
        "import datetime\n",
        "from pyspark.sql.functions import year, month, dayofmonth\n",
        "from pyspark.sql.functions import sum, col, desc"
      ],
      "metadata": {
        "id": "VOHBByBLPpQQ"
      },
      "execution_count": null,
      "outputs": []
    },
    {
      "cell_type": "code",
      "source": [
        "#Grouping by period begin and calculating average median sale price\n",
        "df_4 = df_3.groupBy(year('period_begin')).agg({'median_sale_price':'avg'}).sort(desc(year(df_3.period_begin)))\n",
        "df_4.show()"
      ],
      "metadata": {
        "colab": {
          "base_uri": "https://localhost:8080/"
        },
        "id": "wFLKnYeePgle",
        "outputId": "97f1af2d-5aa0-4ed9-c1c5-d8b4a85a5cf0"
      },
      "execution_count": null,
      "outputs": [
        {
          "output_type": "stream",
          "name": "stdout",
          "text": [
            "+------------------+----------------------+\n",
            "|year(period_begin)|avg(median_sale_price)|\n",
            "+------------------+----------------------+\n",
            "|              2021|    401835.58340094466|\n",
            "|              2020|     362584.1021330095|\n",
            "|              2019|    327522.84003192815|\n",
            "|              2018|     316829.5468317408|\n",
            "|              2017|      299386.425371486|\n",
            "|              2016|     281396.7330374789|\n",
            "|              2015|     262589.8676048179|\n",
            "|              2014|    236887.72628142938|\n",
            "|              2013|    222190.99115307556|\n",
            "|              2012|    203567.84239855543|\n",
            "+------------------+----------------------+\n",
            "\n"
          ]
        }
      ]
    },
    {
      "cell_type": "code",
      "source": [
        "#Grouping by state and calculating average median sale price\n",
        "df_5 = df_3.groupBy('state_code').agg({'median_sale_price':'avg'}).sort(desc('state_code'))\n",
        "df_5.show()"
      ],
      "metadata": {
        "colab": {
          "base_uri": "https://localhost:8080/"
        },
        "id": "tbTnzrVUQEr-",
        "outputId": "bb50be66-3fb7-4cec-bfc2-50a05b7af3e8"
      },
      "execution_count": null,
      "outputs": [
        {
          "output_type": "stream",
          "name": "stdout",
          "text": [
            "+----------+----------------------+\n",
            "|state_code|avg(median_sale_price)|\n",
            "+----------+----------------------+\n",
            "|        WV|    176733.04015009382|\n",
            "|        WI|     185106.2900226178|\n",
            "|        WA|    354273.73922074697|\n",
            "|        VT|    238820.19213696892|\n",
            "|        VA|     346225.8756535498|\n",
            "|        UT|    295702.58772075834|\n",
            "|        TX|     228807.7939969535|\n",
            "|        TN|     202194.1801501387|\n",
            "|        SC|      220761.695163139|\n",
            "|        RI|    279043.00771734567|\n",
            "|        PA|     194589.5040639796|\n",
            "|        OR|    297355.45440297923|\n",
            "|        OK|    146274.00966060188|\n",
            "|        OH|     161808.5762915278|\n",
            "|        NY|     417966.7571129145|\n",
            "|        NV|     267678.2945781298|\n",
            "|        NM|     326475.7256774404|\n",
            "|        NJ|    335297.06581715145|\n",
            "|        NH|     252588.6696552374|\n",
            "|        NE|    186050.03780650455|\n",
            "+----------+----------------------+\n",
            "only showing top 20 rows\n",
            "\n"
          ]
        }
      ]
    },
    {
      "cell_type": "code",
      "source": [
        "from pyspark import SparkContext\n",
        "from pyspark.sql import SQLContext\n",
        "from pyspark.sql import functions as F\n",
        "from pyspark.sql.window import Window\n",
        "from pyspark.sql.functions import *\n",
        "import datetime\n",
        "from pyspark.sql.functions import year, month, dayofmonth\n",
        "from pyspark.sql.functions import sum, col, desc\n",
        "from pyspark.sql.functions import lit"
      ],
      "metadata": {
        "id": "n0KWjJpPQE2P"
      },
      "execution_count": null,
      "outputs": []
    },
    {
      "cell_type": "code",
      "source": [
        "#Calculating difference between median sale price\n",
        "\n",
        "my_window = Window.partitionBy().orderBy(\"period_begin\")\n",
        "\n",
        "df_3 = df_3.withColumn(\"prev_value\", F.lag(\"median_sale_price\").over(my_window))\n",
        "df_3 = df_3.withColumn(\"diff\", F.when(F.isnull(df_3.median_sale_price - df_3.prev_value), 0)\n",
        "                              .otherwise(df_3.median_sale_price - df_3.prev_value))\n",
        "\n",
        "df_3.show()"
      ],
      "metadata": {
        "colab": {
          "base_uri": "https://localhost:8080/"
        },
        "id": "X__tOW7kQZUR",
        "outputId": "4d448a52-83e5-4456-86f2-59d2118673a9"
      },
      "execution_count": null,
      "outputs": [
        {
          "output_type": "stream",
          "name": "stdout",
          "text": [
            "+------------+----------+---------------+-------------+----------+--------------------+----------------+-----------------+-----------------+------------------+------------------+----------+-------------+------------+---------+----------+-------------------+--------------------+-----------------------+--------------------+------------------------------+-------------------+--------------------+----------+---------+\n",
            "|period_begin|period_end|         region|        state|state_code|       property_type|property_type_id|median_sale_price|median_list_price|       median_ppsf|  median_list_ppsf|homes_sold|pending_sales|new_listings|inventory|median_dom|   avg_sale_to_list|     sold_above_list|off_market_in_two_weeks| parent_metro_region|parent_metro_region_metro_code|       last_updated|DiffOfList&SalePrice|prev_value|     diff|\n",
            "+------------+----------+---------------+-------------+----------+--------------------+----------------+-----------------+-----------------+------------------+------------------+----------+-------------+------------+---------+----------+-------------------+--------------------+-----------------------+--------------------+------------------------------+-------------------+--------------------+----------+---------+\n",
            "|  2012-01-01|2012-03-31|Zip Code: 44053|         Ohio|        OH|     All Residential|              -1|            86500|           115000|59.794372294372295|66.872427983539097|        32|            4|          69|      178|       209|0.90530018417568903|              0.0625|                      0|       Cleveland, OH|                         17460|2022-01-09 14:29:56|            -28500.0|      null|      0.0|\n",
            "|  2012-01-01|2012-03-31|Zip Code: 11558|     New York|        NY|Multi-Family (2-4...|               4|           235000|           429000|11.627906976744185|214.45208903960696|         1|            2|           4|        4|      1263| 1.0444444444444445|                   1|                      0|   Nassau County, NY|                         35004|2022-01-09 14:29:56|           -194000.0|     86500| 148500.0|\n",
            "|  2012-01-01|2012-03-31|Zip Code: 32523|      Florida|        FL|     All Residential|              -1|           335000|             null|             107.2|              null|         1|         null|        null|     null|       131|0.89333333333333331|                   0|                   null|       Pensacola, FL|                         37860|2022-01-09 14:29:56|                null|    235000| 100000.0|\n",
            "|  2012-01-01|2012-03-31|Zip Code: 03064|New Hampshire|        NH|     All Residential|              -1|         199416.5|           182350|124.39901760825394|111.28467153284672|        22|            4|          40|       58|        99|0.96656105186853625| 0.18181818181818182|                      0|      Manchester, NH|                         31700|2022-01-09 14:29:56|             17066.5|    335000|-135583.5|\n",
            "|  2012-01-01|2012-03-31|Zip Code: 80214|     Colorado|        CO|     All Residential|              -1|           132050|           189900| 86.79245283018868|109.01162790697674|        59|           18|          89|       73|        70|0.94992009297714997| 0.16949152542372881|                    0.5|          Denver, CO|                         19740|2022-01-09 14:29:56|            -57850.0|  199416.5| -67366.5|\n",
            "|  2012-01-01|2012-03-31|Zip Code: 22556|     Virginia|        VA|Single Family Res...|               6|           275000|           298000|110.04401760704282|122.61647221302333|        57|           25|         108|       87|      69.5|0.97921652988495422| 0.15789473684210525|    0.47999999999999998|      Washington, DC|                         47894|2022-01-09 14:29:56|            -23000.0|    132050| 142950.0|\n",
            "|  2012-01-01|2012-03-31|Zip Code: 05201|      Vermont|        VT|         Condo/Co-op|               3|           133500|            89000|133.93299189073838|108.66910866910867|         2|         null|           1|        4|     339.5|0.95351883289626482|                   0|                   null|      Bennington, VT|                         13540|2022-01-09 14:29:56|             44500.0|    275000|-141500.0|\n",
            "|  2012-01-01|2012-03-31|Zip Code: 44137|         Ohio|        OH|         Condo/Co-op|               3|            17600|            14000|19.642857142857146|            15.625|         2|            1|           1|        2|        99|0.71757093622028723|                   0|                      0|       Cleveland, OH|                         17460|2022-01-09 14:29:56|              3600.0|    133500|-115900.0|\n",
            "|  2012-01-01|2012-03-31|Zip Code: 32459|      Florida|        FL|Single Family Res...|               6|           309500|           834900|152.08695652173913|373.05630026809649|       134|         null|           1|        2|      null|0.93683897005963368| 0.17164179104477612|                   null|       Crestview, FL|                         18880|2022-01-09 14:29:56|           -525400.0|     17600| 291900.0|\n",
            "|  2012-01-01|2012-03-31|Zip Code: 06092|  Connecticut|        CT|Single Family Res...|               6|           382500|           387450|145.78473842052648| 150.8729827028796|         7|            3|          22|       31|       160|0.94112420536993258|                   0|                      0|        Hartford, CT|                         25540|2022-01-09 14:29:56|             -4950.0|    309500|  73000.0|\n",
            "|  2012-01-01|2012-03-31|Zip Code: 45430|         Ohio|        OH|Single Family Res...|               6|           135500|           161400|75.617283950617278|86.697002923976612|         9|            4|          23|       34|       167|0.97834135952346957|  0.1111111111111111|                   0.25|          Dayton, OH|                         19430|2022-01-09 14:29:56|            -25900.0|    382500|-247000.0|\n",
            "|  2012-01-01|2012-03-31|Zip Code: 19057| Pennsylvania|        PA|         Condo/Co-op|               3|           134500|           123000|92.755388940955953|100.88383838383839|         4|            3|           4|        3|     108.5|0.92963457593039545|                   0|    0.33333333333333331|Montgomery County...|                         33874|2022-01-09 14:29:56|             11500.0|    135500|  -1000.0|\n",
            "|  2012-01-01|2012-03-31|Zip Code: 03222|New Hampshire|        NH|Single Family Res...|               6|           138011|           154900| 121.7948717948718|95.279164775306398|         7|            1|          19|       25|       109|0.93528494563841313| 0.14285714285714285|                      0|         Lebanon, NH|                         30100|2022-01-09 14:29:56|            -16889.0|    134500|   3511.0|\n",
            "|  2012-01-01|2012-03-31|Zip Code: 47115|      Indiana|        IN|Single Family Res...|               6|          21058.5|           115000|19.901327392555462|52.415679124886054|         2|            2|           5|        4|      52.5|0.76923076923076927|                   0|                      0|      Louisville, KY|                         31140|2022-01-09 14:29:56|            -93941.5|    138011|-116952.5|\n",
            "|  2012-01-01|2012-03-31|Zip Code: 20711|     Maryland|        MD|Single Family Res...|               6|           421400|           382500| 134.6956651161982|169.16250693288964|        10|            2|          23|       31|       279|0.91797039595353591|                   0|                    0.5|       Baltimore, MD|                         12580|2022-01-09 14:29:56|             38900.0|   21058.5| 400341.5|\n",
            "|  2012-01-01|2012-03-31|Zip Code: 35049|      Alabama|        AL|Single Family Res...|               6|           105700|           132000|67.543195952826238|94.582866295717324|         4|         null|           3|        9|     126.5| 1.0069902263611636|                 0.5|                   null|      Birmingham, AL|                         13820|2022-01-09 14:29:56|            -26300.0|    421400|-315700.0|\n",
            "|  2012-01-01|2012-03-31|Zip Code: 98168|   Washington|        WA|Multi-Family (2-4...|               4|           157000|           183875| 71.36363636363636|90.530547662102805|         1|         null|           2|        4|        58|0.92380111797587527|                   0|                   null|         Seattle, WA|                         42644|2022-01-09 14:29:56|            -26875.0|    105700|  51300.0|\n",
            "|  2012-01-01|2012-03-31|Zip Code: 91941|   California|        CA|Multi-Family (2-4...|               4|           290500|           312450|              null|176.41176470588235|         2|            2|           4|        1|     213.5|0.84723346336426719|                   0|                    0.5|       San Diego, CA|                         41740|2022-01-09 14:29:56|            -21950.0|    157000| 133500.0|\n",
            "|  2012-01-01|2012-03-31|Zip Code: 43240|         Ohio|        OH|         Condo/Co-op|               3|           135000|           150000|92.653508771929822|96.058347233805961|         9|            2|          14|       11|       275|0.96415756192332025| 0.22222222222222221|                      0|        Columbus, OH|                         18140|2022-01-09 14:29:56|            -15000.0|    290500|-155500.0|\n",
            "|  2012-01-01|2012-03-31|Zip Code: 77377|        Texas|        TX|Single Family Res...|               6|           171750|           189900|67.665226574500764|75.260101891894308|        76|           25|         134|      175|       107|0.96070546692060654|0.039473684210526314|    0.28000000000000003|         Houston, TX|                         26420|2022-01-09 14:29:56|            -18150.0|    135000|  36750.0|\n",
            "+------------+----------+---------------+-------------+----------+--------------------+----------------+-----------------+-----------------+------------------+------------------+----------+-------------+------------+---------+----------+-------------------+--------------------+-----------------------+--------------------+------------------------------+-------------------+--------------------+----------+---------+\n",
            "only showing top 20 rows\n",
            "\n"
          ]
        }
      ]
    },
    {
      "cell_type": "code",
      "source": [
        "#Grouping by state and calculating average difference of median sale price\n",
        "df_6 = df_3.groupBy('state_code').agg({'diff':'avg'}).sort(desc('state_code'))\n",
        "df_6.show()"
      ],
      "metadata": {
        "colab": {
          "base_uri": "https://localhost:8080/"
        },
        "id": "lBD6-6F5Tysu",
        "outputId": "159cce13-c0b8-4a0e-c53a-b87d04646d84"
      },
      "execution_count": null,
      "outputs": [
        {
          "output_type": "stream",
          "name": "stdout",
          "text": [
            "+----------+-------------------+\n",
            "|state_code|          avg(diff)|\n",
            "+----------+-------------------+\n",
            "|        WV|-110408.55942776735|\n",
            "|        WI|-122563.16650400459|\n",
            "|        WA| 59871.220940182735|\n",
            "|        VT| -50599.69678308375|\n",
            "|        VA|  52924.34346192212|\n",
            "|        UT| -9981.502163889674|\n",
            "|        TX| -62635.91684831851|\n",
            "|        TN| -107012.4056138824|\n",
            "|        SC| -91005.09704286697|\n",
            "|        RI| -9225.830760884783|\n",
            "|        PA| -95261.13769621917|\n",
            "|        OR|  6864.239373305035|\n",
            "|        OK| -147332.9635285987|\n",
            "|        OH|-128705.95788492034|\n",
            "|        NY| 119268.69354289245|\n",
            "|        NV|-23636.838470910752|\n",
            "|        NM|  29495.59345412994|\n",
            "|        NJ|  33633.41153868969|\n",
            "|        NH| -37732.71059327168|\n",
            "|        NE|-104309.95110033857|\n",
            "+----------+-------------------+\n",
            "only showing top 20 rows\n",
            "\n"
          ]
        }
      ]
    },
    {
      "cell_type": "code",
      "source": [
        "# convert dataframe to dictionary \n",
        "import matplotlib.pyplot as plt\n",
        "dict = df_4.rdd.collectAsMap()\n",
        "plt.bar(list(dict.keys()), dict.values(), color='g')\n",
        "plt.xlabel(\"year\",fontsize=10)\n",
        "plt.ylabel(\"Median Sale Price\",fontsize=10)\n",
        "plt.title(\"Date Vs. Median Sale Price of Redfin Data\",fontsize=20)"
      ],
      "metadata": {
        "colab": {
          "base_uri": "https://localhost:8080/",
          "height": 318
        },
        "id": "PLMaAmXlUOzz",
        "outputId": "d5014abf-0808-4933-98b7-ecdcad251891"
      },
      "execution_count": null,
      "outputs": [
        {
          "output_type": "execute_result",
          "data": {
            "text/plain": [
              "Text(0.5, 1.0, 'Date Vs. Median Sale Price of Redfin Data')"
            ]
          },
          "metadata": {},
          "execution_count": 21
        },
        {
          "output_type": "display_data",
          "data": {
            "text/plain": [
              "<Figure size 432x288 with 1 Axes>"
            ],
            "image/png": "[encoded data removed]"
          },
          "metadata": {
            "needs_background": "light"
          }
        }
      ]
    },
    {
      "cell_type": "code",
      "source": [
        "# convert dataframe to dictionary \n",
        "import matplotlib.pyplot as plt\n",
        "dict = df_5.rdd.collectAsMap()\n",
        "plt.bar(list(dict.keys()), dict.values(), color='b')\n",
        "plt.xlabel(\"State\",fontsize=10)\n",
        "plt.xticks(rotation=90)\n",
        "plt.ylabel(\"Median Sale Price\",fontsize=10)\n",
        "plt.title(\"State Vs. Median Sale Price of Redfin Data\",fontsize=20)\n",
        "plt.gcf().set_size_inches(10,5)"
      ],
      "metadata": {
        "colab": {
          "base_uri": "https://localhost:8080/",
          "height": 361
        },
        "id": "OANZX0J3WLbq",
        "outputId": "2221703d-4962-412d-c048-dd4a940397d1"
      },
      "execution_count": null,
      "outputs": [
        {
          "output_type": "display_data",
          "data": {
            "text/plain": [
              "<Figure size 720x360 with 1 Axes>"
            ],
            "image/png": "[encoded data removed]"
          },
          "metadata": {
            "needs_background": "light"
          }
        }
      ]
    },
    {
      "cell_type": "code",
      "source": [
        "import matplotlib.pyplot as plt\n",
        "dict = df_6.rdd.collectAsMap()\n",
        "plt.bar(list(dict.keys()), dict.values(), color='lightblue')\n",
        "plt.xlabel(\"State\",fontsize=10)\n",
        "plt.xticks(rotation=90)\n",
        "plt.ylabel(\"Difference of Median Sale Price\",fontsize=10)\n",
        "plt.title(\"State Vs. Difference of Median Sale Price of Redfin Data\",fontsize=20)\n",
        "plt.gcf().set_size_inches(10,5)"
      ],
      "metadata": {
        "colab": {
          "base_uri": "https://localhost:8080/",
          "height": 361
        },
        "id": "W_tKtJbHYkW8",
        "outputId": "fe099054-0b09-47d3-80f2-580cefb07b86"
      },
      "execution_count": null,
      "outputs": [
        {
          "output_type": "display_data",
          "data": {
            "text/plain": [
              "<Figure size 720x360 with 1 Axes>"
            ],
            "image/png": "[encoded data removed]"
          },
          "metadata": {
            "needs_background": "light"
          }
        }
      ]
    },
    {
      "cell_type": "code",
      "source": [
        "df_7 = df_3.groupBy('state_code').agg({'homes_sold':'sum'}).sort(desc('state_code'))\n",
        "\n",
        "df_7.show()"
      ],
      "metadata": {
        "colab": {
          "base_uri": "https://localhost:8080/"
        },
        "id": "jbsEogcEpkTl",
        "outputId": "f59067ff-6195-43b8-a6c6-37c070d5002a"
      },
      "execution_count": null,
      "outputs": [
        {
          "output_type": "stream",
          "name": "stdout",
          "text": [
            "+----------+-----------------+\n",
            "|state_code|  sum(homes_sold)|\n",
            "+----------+-----------------+\n",
            "|        WV|         231252.0|\n",
            "|        WI|        3154471.0|\n",
            "|        WA|        6199993.0|\n",
            "|        VT|         341600.0|\n",
            "|        VA|5122223.077272727|\n",
            "|        UT|        2483498.0|\n",
            "|        TX|      1.6001439E7|\n",
            "|        TN|        4232576.0|\n",
            "|        SC|        3155930.0|\n",
            "|        RI|         831618.0|\n",
            "|        PA|        6835910.0|\n",
            "|        OR|        3433796.0|\n",
            "|        OK|        2358712.0|\n",
            "|        OH|        7672028.0|\n",
            "|        NY|        6753402.0|\n",
            "|        NV|        3229686.0|\n",
            "|        NM|         157080.0|\n",
            "|        NJ|        5826306.0|\n",
            "|        NH|        1188340.0|\n",
            "|        NE|        1069648.0|\n",
            "+----------+-----------------+\n",
            "only showing top 20 rows\n",
            "\n"
          ]
        }
      ]
    },
    {
      "cell_type": "code",
      "source": [
        "import matplotlib.pyplot as plt\n",
        "\n",
        "\n",
        "\n",
        "dict = df_7.rdd.collectAsMap()\n",
        "\n",
        "plt.bar(list(dict.keys()), dict.values(), color='g')\n",
        "\n",
        "plt.xlabel(\"State\",fontsize=20)\n",
        "\n",
        "plt.xticks(rotation=90)\n",
        "\n",
        "plt.ylabel(\"Homes Sold\",fontsize=20)\n",
        "\n",
        "plt.title(\"Number of Homes sold in different States\",fontsize=20)\n",
        "\n",
        "plt.gcf().set_size_inches(10,5)"
      ],
      "metadata": {
        "colab": {
          "base_uri": "https://localhost:8080/",
          "height": 370
        },
        "id": "tjTc5PhgprnO",
        "outputId": "4572aacb-261a-4f69-b1ff-747d27bddcd7"
      },
      "execution_count": null,
      "outputs": [
        {
          "output_type": "display_data",
          "data": {
            "text/plain": [
              "<Figure size 720x360 with 1 Axes>"
            ],
            "image/png": "[encoded data removed]"
          },
          "metadata": {
            "needs_background": "light"
          }
        }
      ]
    },
    {
      "cell_type": "code",
      "source": [
        "df_8 = df_3.groupBy(year('period_begin')).agg({'homes_sold':'sum'}).sort(desc(year('period_begin')))\n",
        "df_8.show()"
      ],
      "metadata": {
        "colab": {
          "base_uri": "https://localhost:8080/"
        },
        "id": "DUymFXKIl6Vz",
        "outputId": "68fdf578-5a8a-4da0-856e-e209913e56fe"
      },
      "execution_count": null,
      "outputs": [
        {
          "output_type": "stream",
          "name": "stdout",
          "text": [
            "+------------------+--------------------+\n",
            "|year(period_begin)|     sum(homes_sold)|\n",
            "+------------------+--------------------+\n",
            "|              2021|2.1533061077272728E7|\n",
            "|              2020|         2.2866549E7|\n",
            "|              2019|         2.1703071E7|\n",
            "|              2018|         2.1294619E7|\n",
            "|              2017|         2.1464567E7|\n",
            "|              2016|         2.0865718E7|\n",
            "|              2015|         1.9596315E7|\n",
            "|              2014|         1.6961296E7|\n",
            "|              2013|         1.6730922E7|\n",
            "|              2012|         1.4728368E7|\n",
            "+------------------+--------------------+\n",
            "\n"
          ]
        }
      ]
    },
    {
      "cell_type": "code",
      "source": [
        "import matplotlib.pyplot as plt\n",
        "from matplotlib.ticker import (MultipleLocator, FormatStrFormatter,AutoMinorLocator)\n",
        "\n",
        "dict = df_8.rdd.collectAsMap()\n",
        "plt.bar(list(dict.keys()), dict.values(), color='y')\n",
        "plt.xlabel(\"year\",fontsize=10)\n",
        "plt.xticks(rotation=90)\n",
        "\n",
        "plt.ylabel(\"Total houses sold per year\",fontsize=10)\n",
        "plt.title(\"Total houses sold per year in Redfin data\",fontsize=20)\n",
        "plt.gcf().set_size_inches(10,5)"
      ],
      "metadata": {
        "colab": {
          "base_uri": "https://localhost:8080/",
          "height": 370
        },
        "id": "DBU7lXsrl8mm",
        "outputId": "6ee6e30a-2fb1-4ade-e254-e442e00eed5a"
      },
      "execution_count": null,
      "outputs": [
        {
          "output_type": "display_data",
          "data": {
            "text/plain": [
              "<Figure size 720x360 with 1 Axes>"
            ],
            "image/png": "[encoded data removed]"
          },
          "metadata": {
            "needs_background": "light"
          }
        }
      ]
    },
    {
      "cell_type": "code",
      "source": [
        "for field in df.schema.fields:\n",
        "    print(field.name +\" , \")"
      ],
      "metadata": {
        "colab": {
          "base_uri": "https://localhost:8080/"
        },
        "id": "BGQtc0T-bUwc",
        "outputId": "29751dcd-6c67-43d4-9708-42a88fa24424"
      },
      "execution_count": null,
      "outputs": [
        {
          "output_type": "stream",
          "name": "stdout",
          "text": [
            "period_begin , \n",
            "period_end , \n",
            "period_duration , \n",
            "region_type , \n",
            "region_type_id , \n",
            "table_id , \n",
            "is_seasonally_adjusted , \n",
            "region , \n",
            "city , \n",
            "state , \n",
            "state_code , \n",
            "property_type , \n",
            "property_type_id , \n",
            "median_sale_price , \n",
            "median_sale_price_mom , \n",
            "median_sale_price_yoy , \n",
            "median_list_price , \n",
            "median_list_price_mom , \n",
            "median_list_price_yoy , \n",
            "median_ppsf , \n",
            "median_ppsf_mom , \n",
            "median_ppsf_yoy , \n",
            "median_list_ppsf , \n",
            "median_list_ppsf_mom , \n",
            "median_list_ppsf_yoy , \n",
            "homes_sold , \n",
            "homes_sold_mom , \n",
            "homes_sold_yoy , \n",
            "pending_sales , \n",
            "pending_sales_mom , \n",
            "pending_sales_yoy , \n",
            "new_listings , \n",
            "new_listings_mom , \n",
            "new_listings_yoy , \n",
            "inventory , \n",
            "inventory_mom , \n",
            "inventory_yoy , \n",
            "months_of_supply , \n",
            "months_of_supply_mom , \n",
            "months_of_supply_yoy , \n",
            "median_dom , \n",
            "median_dom_mom , \n",
            "median_dom_yoy , \n",
            "avg_sale_to_list , \n",
            "avg_sale_to_list_mom , \n",
            "avg_sale_to_list_yoy , \n",
            "sold_above_list , \n",
            "sold_above_list_mom , \n",
            "sold_above_list_yoy , \n",
            "price_drops , \n",
            "price_drops_mom , \n",
            "price_drops_yoy , \n",
            "off_market_in_two_weeks , \n",
            "off_market_in_two_weeks_mom , \n",
            "off_market_in_two_weeks_yoy , \n",
            "parent_metro_region , \n",
            "parent_metro_region_metro_code , \n",
            "last_updated , \n"
          ]
        }
      ]
    },
    {
      "cell_type": "code",
      "source": [
        "for field in df_3.schema.fields:\n",
        "    print(field.name +\" , \")"
      ],
      "metadata": {
        "colab": {
          "base_uri": "https://localhost:8080/"
        },
        "id": "KInOcTMfe9Yv",
        "outputId": "fdf91b05-cd66-45d4-f5d3-3254d35d9364"
      },
      "execution_count": null,
      "outputs": [
        {
          "output_type": "stream",
          "name": "stdout",
          "text": [
            "period_begin , \n",
            "period_end , \n",
            "region , \n",
            "state , \n",
            "state_code , \n",
            "property_type , \n",
            "property_type_id , \n",
            "median_sale_price , \n",
            "median_list_price , \n",
            "median_ppsf , \n",
            "median_list_ppsf , \n",
            "homes_sold , \n",
            "pending_sales , \n",
            "new_listings , \n",
            "inventory , \n",
            "median_dom , \n",
            "avg_sale_to_list , \n",
            "sold_above_list , \n",
            "off_market_in_two_weeks , \n",
            "parent_metro_region , \n",
            "parent_metro_region_metro_code , \n",
            "last_updated , \n",
            "DiffOfList&SalePrice , \n",
            "prev_value , \n",
            "diff , \n"
          ]
        }
      ]
    },
    {
      "cell_type": "code",
      "source": [
        "import requests \n",
        "from pyspark import SparkContext\n",
        "from pyspark.sql import SQLContext\n",
        "from pyspark.sql import functions as F\n",
        "from pyspark.sql.window import Window\n",
        "from pyspark.sql.functions import *\n",
        "from pyspark.sql.types import *\n",
        "from pyspark.sql import SparkSession\n",
        "\n",
        "spark = SparkSession.builder\\\n",
        "        .master(\"local\")\\\n",
        "        .appName(\"Colab\")\\\n",
        "        .config('spark.ui.port', '4050')\\\n",
        "        .getOrCreate()"
      ],
      "metadata": {
        "id": "8BYNi6bOj1BW"
      },
      "execution_count": null,
      "outputs": []
    }
  ]
}