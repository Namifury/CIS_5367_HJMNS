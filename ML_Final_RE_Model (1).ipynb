{
  "nbformat": 4,
  "nbformat_minor": 0,
  "metadata": {
    "colab": {
      "name": "ML_Final_RE_Model",
      "provenance": []
    },
    "kernelspec": {
      "name": "python3",
      "display_name": "Python 3"
    },
    "language_info": {
      "name": "python"
    }
  },
  "cells": [
    {
      "cell_type": "code",
      "execution_count": 10,
      "metadata": {
        "id": "tZs1R-OeYNkH"
      },
      "outputs": [],
      "source": [
        "# Spark init#save the files in the g drive folder - first two commands\n",
        "!wget -q https://dlcdn.apache.org/spark/spark-3.1.2/spark-3.1.2-bin-hadoop2.7.tgz \n",
        "!tar xf spark-3.1.2-bin-hadoop2.7.tgz\n",
        "import os\n",
        "os.environ[\"JAVA_HOME\"] = \"/usr/lib/jvm/default-java\"\n",
        "os.environ[\"SPARK_HOME\"] = \"/content/spark-3.1.2-bin-hadoop2.7\"\n",
        "!pip install -q findspark\n",
        "import findspark\n",
        "findspark.init()\n",
        "from pyspark.sql import SparkSession\n",
        "spark = SparkSession.builder\\\n",
        "        .master(\"local\")\\\n",
        "        .appName(\"Colab\")\\\n",
        "        .config('spark.ui.port', '4050')\\\n",
        "        .getOrCreate()"
      ]
    },
    {
      "cell_type": "code",
      "source": [
        "from google.colab import drive\n",
        "drive.mount('/content/drive')"
      ],
      "metadata": {
        "colab": {
          "base_uri": "https://localhost:8080/"
        },
        "id": "bKibR5caYjOg",
        "outputId": "52179d01-67fd-4898-ed9b-548e0d599ec1"
      },
      "execution_count": 11,
      "outputs": [
        {
          "output_type": "stream",
          "name": "stdout",
          "text": [
            "Drive already mounted at /content/drive; to attempt to forcibly remount, call drive.mount(\"/content/drive\", force_remount=True).\n"
          ]
        }
      ]
    },
    {
      "cell_type": "code",
      "source": [
        "!wget --continue https://drive.google.com/file/d/1b-Z0Tt--ioLGhPTNwHVKyYY7mS7ynRJs/view?usp=sharing   -O /content/drive/MyDrive/data/zip_code_market_tracker.tsv000\n",
        "housing_df_raw = spark.read.csv('/content/drive/MyDrive/data/zip_code_market_tracker.tsv000', sep='\\t',header=True)"
      ],
      "metadata": {
        "colab": {
          "base_uri": "https://localhost:8080/"
        },
        "id": "NxEP0LoYYpsG",
        "outputId": "679765e8-8c87-4c4e-f495-02db1f105310"
      },
      "execution_count": 12,
      "outputs": [
        {
          "output_type": "stream",
          "name": "stdout",
          "text": [
            "--2022-04-25 02:57:14--  https://drive.google.com/file/d/1b-Z0Tt--ioLGhPTNwHVKyYY7mS7ynRJs/view?usp=sharing\n",
            "Resolving drive.google.com (drive.google.com)... 142.250.145.100, 142.250.145.101, 142.250.145.102, ...\n",
            "Connecting to drive.google.com (drive.google.com)|142.250.145.100|:443... connected.\n",
            "HTTP request sent, awaiting response... 200 OK\n",
            "Length: unspecified [text/html]\n",
            "Saving to: ‘/content/drive/MyDrive/data/zip_code_market_tracker.tsv000’\n",
            "\n",
            "/content/drive/MyDr     [  <=>               ]  64.86K   303KB/s    in 0.2s    \n",
            "\n",
            "2022-04-25 02:57:15 (303 KB/s) - ‘/content/drive/MyDrive/data/zip_code_market_tracker.tsv000’ saved [3028826328]\n",
            "\n"
          ]
        }
      ]
    },
    {
      "cell_type": "code",
      "source": [
        "housing_trimmed_df = housing_df_raw.select('period_begin','period_end','property_type','property_type_id','state','state_code','region','median_sale_price','median_ppsf')"
      ],
      "metadata": {
        "id": "yEXJXqedY8UA"
      },
      "execution_count": 13,
      "outputs": []
    },
    {
      "cell_type": "code",
      "source": [
        "from pyspark.sql.functions import year,quarter,when,split,col\n",
        "\n",
        "housing_transformed = housing_trimmed_df.withColumn('period_begin_year',year('period_begin')).withColumn('period_begin_quarter',quarter('period_begin'))\n",
        "housing_transformed_2 = housing_transformed.withColumn('median_sales_2012', when(housing_transformed.period_begin_year== '2012',housing_transformed.median_sale_price).cast('float')).withColumn('median_ppsf_2012', when(housing_transformed.period_begin_year== '2012',housing_transformed.median_ppsf).cast('float')).withColumn('median_sales_2020', when(housing_transformed.period_begin_year== '2020',housing_transformed.median_sale_price).cast('float')).withColumn('median_ppsf_2020', when(housing_transformed.period_begin_year== '2020',housing_transformed.median_ppsf).cast('float'))\n",
        "housing_transformed_3 = housing_transformed_2.select(housing_transformed_2.region.alias('zip'),housing_transformed_2.property_type_id.alias('type_id'),'median_sales_2012','median_ppsf_2012','median_sales_2020','median_ppsf_2020').fillna(0)\n",
        "housing_transformed_4 = housing_transformed_3.groupBy('zip','type_id').sum()\n",
        "housing_unique = housing_trimmed_df.drop('period_begin','period_end','median_sale_price','median_ppsf').distinct().sort(housing_trimmed_df.state.desc())\n",
        "housing_transformed_5 = housing_transformed_4.join(housing_unique,(housing_unique.region==housing_transformed_4.zip) & (housing_unique.property_type_id==housing_transformed_4.type_id),'left')\n",
        "housing_transformed_6 = housing_transformed_5.withColumn('median_sale_price_delta',housing_transformed_5['sum(median_sales_2020)'] - housing_transformed_5['sum(median_sales_2012)']).withColumn('median_ppsf_delta',housing_transformed_5['sum(median_ppsf_2020)'] - housing_transformed_5['sum(median_ppsf_2012)']).withColumn('zip_only',split('zip',' ').getItem(2))\n",
        "housing_transformed_7 = housing_transformed_6.where(col('sum(median_sales_2020)')!= 0.0).where(col('sum(median_sales_2012)')!= 0.0).where(col('sum(median_ppsf_2020)')!= 0.0).where(col('sum(median_ppsf_2012)')!= 0.0)\n",
        "housing_transformed_8 = housing_transformed_7.withColumn('Investment_Value_Sales',\\\n",
        "                                                         when(housing_transformed_7.median_sale_price_delta / housing_transformed_7['sum(median_sales_2012)'] < 0.05, 'Bad')\n",
        "                                                         .when(housing_transformed_7.median_sale_price_delta / housing_transformed_7['sum(median_sales_2012)'] <= 0.10, 'Good')\n",
        "                                                         .when(housing_transformed_7.median_sale_price_delta / housing_transformed_7['sum(median_sales_2012)'] <= 0.20, 'Great')\n",
        "                                                         .when(housing_transformed_7.median_sale_price_delta / housing_transformed_7['sum(median_sales_2012)'] > 0.20, 'Excellent')).withColumn('Investment_Value_Ppsf',\\\n",
        "                                                         when(housing_transformed_7.median_ppsf_delta / housing_transformed_7['sum(median_ppsf_2012)'] < 0.05, 'Bad')\n",
        "                                                         .when(housing_transformed_7.median_ppsf_delta / housing_transformed_7['sum(median_ppsf_2012)'] <= 0.10, 'Good')\n",
        "                                                         .when(housing_transformed_7.median_ppsf_delta / housing_transformed_7['sum(median_ppsf_2012)'] <= 0.20, 'Great')\n",
        "                                                         .when(housing_transformed_7.median_ppsf_delta / housing_transformed_7['sum(median_ppsf_2012)'] > 0.20, 'Excellent'))\n",
        "housing_transformed_final= housing_transformed_8.select(housing_transformed_7.zip_only.alias('housing_data_zip'),'state','state_code','property_type',housing_transformed_7.property_type_id.cast(\"int\"),'median_sale_price_delta','median_ppsf_delta','Investment_Value_Sales','Investment_Value_Ppsf').coalesce(50)\n",
        "housing_transformed_final.show(5)"
      ],
      "metadata": {
        "colab": {
          "base_uri": "https://localhost:8080/"
        },
        "id": "uD91tWIEY_5p",
        "outputId": "39616281-8a21-45a7-a95c-8c3d70dcae85"
      },
      "execution_count": 14,
      "outputs": [
        {
          "output_type": "stream",
          "name": "stdout",
          "text": [
            "+----------------+-------------+----------+--------------------+----------------+-----------------------+------------------+----------------------+---------------------+\n",
            "|housing_data_zip|        state|state_code|       property_type|property_type_id|median_sale_price_delta| median_ppsf_delta|Investment_Value_Sales|Investment_Value_Ppsf|\n",
            "+----------------+-------------+----------+--------------------+----------------+-----------------------+------------------+----------------------+---------------------+\n",
            "|           01432|Massachusetts|        MA|         Condo/Co-op|               3|               544012.5|301.46480560302734|             Excellent|                Great|\n",
            "|           01541|Massachusetts|        MA|     All Residential|              -1|              2363000.0| 617.3615188598633|             Excellent|            Excellent|\n",
            "|           01778|Massachusetts|        MA|Multi-Family (2-4...|               4|              1202500.0| 566.3466644287109|             Excellent|            Excellent|\n",
            "|           01834|Massachusetts|        MA|Single Family Res...|               6|              2321800.0| 756.8697509765625|             Excellent|            Excellent|\n",
            "|           01835|Massachusetts|        MA|Multi-Family (2-4...|               4|              3433375.0| 1379.350513458252|             Excellent|            Excellent|\n",
            "+----------------+-------------+----------+--------------------+----------------+-----------------------+------------------+----------------------+---------------------+\n",
            "only showing top 5 rows\n",
            "\n"
          ]
        }
      ]
    },
    {
      "cell_type": "code",
      "source": [
        "## https://api.census.gov/data/2020/acs/acs5/variables.html lists all the possible variable keys for the API Request\n",
        "## Below provides a DF with the ZIP Code and the Median household income.\n",
        "## Need to initialize spark session first\n",
        "##CODE\n",
        "import requests\n",
        "from pyspark.sql.types import *\n",
        "from pyspark.sql.functions import from_json\n",
        "import pandas as pd\n",
        "from pyspark.sql.functions import col\n",
        "\n",
        "start_year = 2012\n",
        "end_year = 2017\n",
        "variables = \"B19013_001E,B01002_001E,B01003_001E,B09001_001E,B11009_002E\"\n",
        "year = start_year\n",
        "key  = '46d133e794f5998e012ea4e0d83d6fb6085136b0'\n",
        "geography = 'zip%20code%20tabulation%20area'\n",
        "\n",
        "call = 1\n",
        "\n",
        "while call < 3:\n",
        "  census_API_call = requests.get(f'https://api.census.gov/data/{year}/acs/acs5?get={variables}&for={geography}:*&key={key}')\n",
        "  census_JSON = census_API_call.json()\n",
        "  df = pd.DataFrame(census_JSON[1:], columns = census_JSON[0])\n",
        "  #print(df)\n",
        "  sparkDF = spark.createDataFrame(df)\n",
        "  #sparkDF.show()\n",
        "  column_title_median_income = f\"Median_Inc_{year}\"\n",
        "  column_title_median_age = f\"Median_Age_{year}\"\n",
        "  column_title_total_pop = f\"Total_Pop_{year}\"\n",
        "  column_title_num_children = f\"Total_Kids_{year}\"\n",
        "  column_title_married_households = f\"Total_Married_{year}\"\n",
        "\n",
        "  if year == start_year:\n",
        "    updated_df = sparkDF.select(col(\"zip code tabulation area\").alias(\"Zip_Code\"),col(\"B19013_001E\").alias(column_title_median_income)\\\n",
        "                                ,col(\"B01002_001E\").alias(column_title_median_age)\n",
        "                                ,col(\"B01003_001E\").alias(column_title_total_pop)\n",
        "                                ,col(\"B09001_001E\").alias(column_title_num_children)\n",
        "                                ,col(\"B11009_002E\").alias(column_title_married_households))\n",
        "  else:\n",
        "    updated_df = updated_df.join(sparkDF,sparkDF['zip code tabulation area']== updated_df.Zip_Code,'left').select(updated_df [\"*\"],col(\"B19013_001E\").alias(column_title_median_income)\\\n",
        "                                ,col(\"B01002_001E\").alias(column_title_median_age)\n",
        "                                ,col(\"B01003_001E\").alias(column_title_total_pop)\n",
        "                                ,col(\"B09001_001E\").alias(column_title_num_children)\n",
        "                                ,col(\"B11009_002E\").alias(column_title_married_households))\n",
        "  \n",
        "  #print(year)\n",
        "  year = end_year\n",
        "  call += 1\n",
        "\n",
        "updated_df.show()"
      ],
      "metadata": {
        "id": "48flhdksntQ9"
      },
      "execution_count": null,
      "outputs": []
    },
    {
      "cell_type": "code",
      "source": [
        "from pyspark.sql.functions import countDistinct, col\n",
        "census_median_inc = updated_df.withColumnRenamed('Zip_Code', 'Zip_Code_Census')\\\n",
        ".withColumnRenamed('Median_Inc_2012', 'Median_Income_2012').withColumnRenamed('Median_Inc_2017', 'Median_Income_2017')\n",
        "census_median_inc_2 =census_median_inc.where(col('Median_Income_2012') != -666666666)\\\n",
        ".where(col('Median_Age_2012') != -666666666)\\\n",
        ".where(col('Total_Pop_2012') != -666666666)\\\n",
        ".where(col('Total_Kids_2012') != -666666666)\\\n",
        ".where(col('Total_Married_2012') != -666666666)\\\n",
        ".where(col('Median_Income_2017') != -666666666)\\\n",
        ".where(col('Median_Age_2017') != -666666666)\\\n",
        ".where(col('Total_Pop_2017') != -666666666)\\\n",
        ".where(col('Total_Kids_2017') != -666666666)\\\n",
        ".where(col('Total_Married_2017') != -666666666)\n",
        "\n",
        "census_data_raw = census_median_inc_2.dropna()\n",
        "census_data_raw.show()"
      ],
      "metadata": {
        "colab": {
          "base_uri": "https://localhost:8080/"
        },
        "id": "rcRhBdgsnwdk",
        "outputId": "e1e957e5-19b6-408c-fddf-82a481ae5eed"
      },
      "execution_count": 16,
      "outputs": [
        {
          "output_type": "stream",
          "name": "stdout",
          "text": [
            "+---------------+------------------+---------------+--------------+---------------+------------------+------------------+---------------+--------------+---------------+------------------+\n",
            "|Zip_Code_Census|Median_Income_2012|Median_Age_2012|Total_Pop_2012|Total_Kids_2012|Total_Married_2012|Median_Income_2017|Median_Age_2017|Total_Pop_2017|Total_Kids_2017|Total_Married_2017|\n",
            "+---------------+------------------+---------------+--------------+---------------+------------------+------------------+---------------+--------------+---------------+------------------+\n",
            "|          02053|            108181|           41.4|         12742|           3432|                99|            115432|           41.2|         13162|           3318|               120|\n",
            "|          02090|            130824|           44.2|         14616|           4323|               143|            146042|           45.0|         15612|           4184|               159|\n",
            "|          03442|             65048|           39.2|          1384|            352|                35|             59881|           38.8|          1411|            326|                37|\n",
            "|          03904|             53137|           45.1|          8114|           1294|               284|             72228|           40.6|          7939|           1454|               187|\n",
            "|          04438|             41042|           42.0|          1346|            306|                72|             43438|           43.6|           983|            168|                59|\n",
            "|          06382|             60461|           41.4|         11795|           2362|               154|             66345|           43.8|         12142|           1959|               332|\n",
            "|          06518|             75036|           34.3|         19135|           2795|               338|             72943|           31.5|         19176|           2469|               227|\n",
            "|          08648|             86067|           37.6|         32168|           6730|               447|             95537|           39.4|         32231|           6167|               312|\n",
            "|          11563|             86804|           43.6|         22953|           4821|               252|             91042|           42.4|         22286|           4755|               398|\n",
            "|          11722|             67041|           32.6|         38140|          10235|               812|             68588|           34.3|         34123|           8365|               744|\n",
            "|          12529|             65294|           49.5|          2714|            509|                98|             59375|           48.4|          2858|            522|               117|\n",
            "|          12847|             57232|           53.6|           628|             93|                 0|             55694|           54.4|           348|             55|                 2|\n",
            "|          13865|             50320|           44.5|          6465|           1417|               195|             67077|           42.0|          6232|           1578|               159|\n",
            "|          14204|             20888|           37.3|          9202|           2170|               160|             25267|           42.8|          9022|           2166|               155|\n",
            "|          14838|             50179|           41.1|          1924|            515|                60|             57578|           44.3|          1938|            397|                90|\n",
            "|          15555|             40625|           55.4|            46|              6|                 0|             36667|           31.9|           119|             22|                24|\n",
            "|          16250|             23516|           24.5|           295|             76|                 4|             21429|           32.9|           528|            149|                20|\n",
            "|          16504|             43755|           38.7|         17461|           3323|               427|             41917|           37.4|         15749|           3371|               417|\n",
            "|          17401|             27598|           29.2|         17100|           5080|               916|             26212|           28.3|         18135|           5725|               665|\n",
            "|          18333|            129063|           40.6|           761|            191|                 0|             28147|           46.6|           454|             57|                77|\n",
            "+---------------+------------------+---------------+--------------+---------------+------------------+------------------+---------------+--------------+---------------+------------------+\n",
            "only showing top 20 rows\n",
            "\n"
          ]
        }
      ]
    },
    {
      "cell_type": "code",
      "source": [
        "census_data_transorm_1 = census_data_raw.withColumn('Median_Income_Delta', (census_data_raw.Median_Income_2017 - census_data_raw.Median_Income_2012))\\\n",
        ".withColumn('Median_Age_Delta', (census_data_raw.Median_Age_2017 - census_data_raw.Median_Age_2012))\\\n",
        ".withColumn('Total_Pop_Delta', (census_data_raw.Total_Pop_2017 - census_data_raw.Total_Pop_2012))\\\n",
        ".withColumn('Total_Kids_Delta', (census_data_raw.Total_Kids_2017 - census_data_raw.Total_Kids_2012))\\\n",
        ".withColumn('Total_Married_Delta', (census_data_raw.Total_Married_2017 - census_data_raw.Total_Married_2012))\n",
        "\n",
        "census_data_deltas = census_data_transorm_1.select(census_data_transorm_1.Zip_Code_Census,census_data_transorm_1.Median_Income_Delta.cast('float'),census_data_transorm_1.Median_Age_Delta.cast('float'),census_data_transorm_1.Total_Pop_Delta.cast('float'),census_data_transorm_1.Total_Kids_Delta.cast('float'),census_data_transorm_1.Total_Married_Delta.cast('float'))\n",
        "census_data_deltas.show()\n",
        "census_data_deltas.printSchema()"
      ],
      "metadata": {
        "colab": {
          "base_uri": "https://localhost:8080/"
        },
        "id": "4E1CvrgAqWpR",
        "outputId": "0c8a44cb-ea3f-4be7-d9e8-2f91ec3b1489"
      },
      "execution_count": 18,
      "outputs": [
        {
          "output_type": "stream",
          "name": "stdout",
          "text": [
            "+---------------+-------------------+----------------+---------------+----------------+-------------------+\n",
            "|Zip_Code_Census|Median_Income_Delta|Median_Age_Delta|Total_Pop_Delta|Total_Kids_Delta|Total_Married_Delta|\n",
            "+---------------+-------------------+----------------+---------------+----------------+-------------------+\n",
            "|          02053|             7251.0|            -0.2|          420.0|          -114.0|               21.0|\n",
            "|          02090|            15218.0|             0.8|          996.0|          -139.0|               16.0|\n",
            "|          03442|            -5167.0|            -0.4|           27.0|           -26.0|                2.0|\n",
            "|          03904|            19091.0|            -4.5|         -175.0|           160.0|              -97.0|\n",
            "|          04438|             2396.0|             1.6|         -363.0|          -138.0|              -13.0|\n",
            "|          06382|             5884.0|             2.4|          347.0|          -403.0|              178.0|\n",
            "|          06518|            -2093.0|            -2.8|           41.0|          -326.0|             -111.0|\n",
            "|          08648|             9470.0|             1.8|           63.0|          -563.0|             -135.0|\n",
            "|          11563|             4238.0|            -1.2|         -667.0|           -66.0|              146.0|\n",
            "|          11722|             1547.0|             1.7|        -4017.0|         -1870.0|              -68.0|\n",
            "|          12529|            -5919.0|            -1.1|          144.0|            13.0|               19.0|\n",
            "|          12847|            -1538.0|             0.8|         -280.0|           -38.0|                2.0|\n",
            "|          13865|            16757.0|            -2.5|         -233.0|           161.0|              -36.0|\n",
            "|          14204|             4379.0|             5.5|         -180.0|            -4.0|               -5.0|\n",
            "|          14838|             7399.0|             3.2|           14.0|          -118.0|               30.0|\n",
            "|          15555|            -3958.0|           -23.5|           73.0|            16.0|               24.0|\n",
            "|          16250|            -2087.0|             8.4|          233.0|            73.0|               16.0|\n",
            "|          16504|            -1838.0|            -1.3|        -1712.0|            48.0|              -10.0|\n",
            "|          17401|            -1386.0|            -0.9|         1035.0|           645.0|             -251.0|\n",
            "|          18333|          -100916.0|             6.0|         -307.0|          -134.0|               77.0|\n",
            "+---------------+-------------------+----------------+---------------+----------------+-------------------+\n",
            "only showing top 20 rows\n",
            "\n",
            "root\n",
            " |-- Zip_Code_Census: string (nullable = true)\n",
            " |-- Median_Income_Delta: float (nullable = true)\n",
            " |-- Median_Age_Delta: float (nullable = true)\n",
            " |-- Total_Pop_Delta: float (nullable = true)\n",
            " |-- Total_Kids_Delta: float (nullable = true)\n",
            " |-- Total_Married_Delta: float (nullable = true)\n",
            "\n"
          ]
        }
      ]
    },
    {
      "cell_type": "code",
      "source": [
        "# Join two dataframes to reflect the sales price and median income based on the zipcode\n",
        "df_merged = housing_transformed_final.join(census_data_deltas, census_data_deltas ['Zip_Code_Census'] ==  housing_transformed_final['housing_data_zip'],'left')\\\n",
        "                                                .select(housing_transformed_final['housing_data_zip'].alias('Zip_Code'), \n",
        "                                                housing_transformed_final['state'],\n",
        "                                                housing_transformed_final['state_code'],\n",
        "                                                housing_transformed_final['property_type'],\n",
        "                                                housing_transformed_final['property_type_id'],\n",
        "                                                housing_transformed_final['median_sale_price_delta'],\n",
        "                                                housing_transformed_final['median_ppsf_delta'],\n",
        "                                                housing_transformed_final['Investment_Value_Sales'],\n",
        "                                                housing_transformed_final['Investment_Value_Ppsf'],\n",
        "                                                census_data_deltas['Median_Income_Delta'],\n",
        "                                                census_data_deltas['Median_Age_Delta'],\n",
        "                                                census_data_deltas['Total_Pop_Delta'],\n",
        "                                                census_data_deltas['Total_Kids_Delta'],\n",
        "                                                census_data_deltas['Total_Married_Delta'])\n",
        "df_merged = df_merged.dropna()\n",
        "df_merged.coalesce(50)\n"
      ],
      "metadata": {
        "colab": {
          "base_uri": "https://localhost:8080/"
        },
        "id": "XISIqyyZopNe",
        "outputId": "55570f28-043b-4b0c-c33f-9f3ff71c1404"
      },
      "execution_count": 19,
      "outputs": [
        {
          "output_type": "execute_result",
          "data": {
            "text/plain": [
              "DataFrame[Zip_Code: string, state: string, state_code: string, property_type: string, property_type_id: int, median_sale_price_delta: double, median_ppsf_delta: double, Investment_Value_Sales: string, Investment_Value_Ppsf: string, Median_Income_Delta: float, Median_Age_Delta: float, Total_Pop_Delta: float, Total_Kids_Delta: float, Total_Married_Delta: float]"
            ]
          },
          "metadata": {},
          "execution_count": 19
        }
      ]
    },
    {
      "cell_type": "code",
      "source": [
        "from pyspark.ml.linalg import Vectors\n",
        "from pyspark.ml.regression import LinearRegression\n",
        "from pyspark.ml.feature import VectorAssembler\n",
        "\n",
        "vectorAssembler = VectorAssembler(inputCols = ['property_type_id','Median_Income_Delta','Median_Age_Delta','Total_Pop_Delta','Total_Kids_Delta','Total_Married_Delta'], outputCol = 'features')\n",
        "vectored_df = vectorAssembler.transform(df_merged)"
      ],
      "metadata": {
        "id": "p0SCAe1Xoq7_"
      },
      "execution_count": 74,
      "outputs": []
    },
    {
      "cell_type": "code",
      "source": [
        "(training_LR, test_LR) = vectored_df.randomSplit([0.8, 0.2], seed = 1234)"
      ],
      "metadata": {
        "id": "YkYKbyFBtdEV"
      },
      "execution_count": 25,
      "outputs": []
    },
    {
      "cell_type": "code",
      "source": [
        "#Linear Regression for Median Sales Price\n",
        "from pyspark.ml.regression import LinearRegression\n",
        "lr = LinearRegression(featuresCol = 'features', labelCol='median_sale_price_delta', maxIter=10, regParam=0.3, elasticNetParam=0.8)\n",
        "lr_model_sales_price = lr.fit(training_LR)\n",
        "training_predictions=lr_model_sales_price.evaluate(training_LR)\n",
        "test_prediction  = lr_model_sales_price.evaluate(test_LR)\n",
        "\n",
        "print(\"Coefficients: \" + str(lr_model_sales_price.coefficients))\n",
        "print(\"Intercept: \" + str(lr_model_sales_price.intercept))\n",
        "print(\"Training R squared:\", training_predictions.r2)\n",
        "print(\"Testing MSE: \", test_prediction.meanSquaredError)\n"
      ],
      "metadata": {
        "colab": {
          "base_uri": "https://localhost:8080/"
        },
        "id": "2BHrXvc6p7Jm",
        "outputId": "7253e19a-2134-4a54-9d95-dc0dbbf35f3b"
      },
      "execution_count": 28,
      "outputs": [
        {
          "output_type": "stream",
          "name": "stdout",
          "text": [
            "Coefficients: [-3099.258130930239,30.6263860211936,7294.6687792028815,187.13652912018827,-313.62245189701287,-566.0278153120107]\n",
            "Intercept: 1347221.117336493\n",
            "Training R squared: 0.04112565384203526\n",
            "Testing MSE:  3400000552411.435\n"
          ]
        }
      ]
    },
    {
      "cell_type": "code",
      "source": [
        "#Linear Regression for Price Per Square Foot\n",
        "from pyspark.ml.regression import LinearRegression\n",
        "lr = LinearRegression(featuresCol = 'features', labelCol='median_ppsf_delta', maxIter=10, regParam=0.3, elasticNetParam=0.8)\n",
        "lr_model_ppsf = lr.fit(training_LR)\n",
        "training_predictions=lr_model_ppsf.evaluate(training_LR)\n",
        "test_prediction  = lr_model_ppsf.evaluate(test_LR)\n",
        "\n",
        "print(\"Coefficients: \" + str(lr_model_sales_price.coefficients))\n",
        "print(\"Intercept: \" + str(lr_model_sales_price.intercept))\n",
        "print(\"Training R squared:\", training_predictions.r2)\n",
        "print(\"Testing MSE: \", test_prediction.meanSquaredError)"
      ],
      "metadata": {
        "id": "5O1-U9a9p9J7"
      },
      "execution_count": null,
      "outputs": []
    },
    {
      "cell_type": "code",
      "source": [
        "from pyspark.ml.feature import VectorAssembler, StringIndexer\n",
        "indexer_sales = StringIndexer(inputCol = 'Investment_Value_Sales', outputCol = 'label')\n",
        "df_features_indexed_sales = indexer_sales.fit(vectored_df).transform(vectored_df)"
      ],
      "metadata": {
        "id": "Ae4CUgAtsxmz"
      },
      "execution_count": 37,
      "outputs": []
    },
    {
      "cell_type": "code",
      "source": [
        "(training_ann_sales, test_ann_sales) = df_features_indexed_sales.randomSplit([0.8, 0.2], seed = 1234)"
      ],
      "metadata": {
        "id": "f3GjLPIpv6fU"
      },
      "execution_count": 38,
      "outputs": []
    },
    {
      "cell_type": "code",
      "source": [
        "from pyspark.ml.classification import MultilayerPerceptronClassifier\n",
        "from pyspark.ml.evaluation import MulticlassClassificationEvaluator\n",
        "\n",
        "mlp_sales = MultilayerPerceptronClassifier(layers = [6,5,5,4], seed = 1)\n",
        "\n",
        "mlp_model_sales = mlp_sales.fit(training_ann_sales)\n",
        "\n",
        "df_pred_sales = mlp_model_sales.transform(test_ann_sales)\n",
        "df_pred_sales = df_pred_sales#.select('features','label','rawPrediction','probability','prediction')\n",
        "df_pred_sales.show()\n",
        "\n",
        "evaluator = MulticlassClassificationEvaluator(labelCol = 'label', predictionCol = 'prediction', metricName = 'accuracy')\n",
        "mlpacc_sales = evaluator.evaluate(df_pred_sales)\n",
        "print(mlpacc_sales)"
      ],
      "metadata": {
        "id": "jL7SlWXWwBNk"
      },
      "execution_count": null,
      "outputs": []
    },
    {
      "cell_type": "code",
      "source": [
        "from pyspark.ml.feature import VectorAssembler, StringIndexer\n",
        "indexer_ppsf = StringIndexer(inputCol = 'Investment_Value_Ppsf', outputCol = 'label')\n",
        "df_features_indexed_ppsf = indexer_ppsf.fit(vectored_df).transform(vectored_df)"
      ],
      "metadata": {
        "id": "DrxbEk1xwWls"
      },
      "execution_count": null,
      "outputs": []
    },
    {
      "cell_type": "code",
      "source": [
        "(training_ann_ppsf, test_ann_ppsf) = df_features_indexed_ppsf.randomSplit([0.8, 0.2], seed = 1234)"
      ],
      "metadata": {
        "id": "ld9mOBSAxAFa"
      },
      "execution_count": null,
      "outputs": []
    },
    {
      "cell_type": "code",
      "source": [
        "from pyspark.ml.classification import MultilayerPerceptronClassifier\n",
        "from pyspark.ml.evaluation import MulticlassClassificationEvaluator\n",
        "\n",
        "mlp = MultilayerPerceptronClassifier(layers = [6,5,5,4], seed = 1)\n",
        "\n",
        "mlp_model = mlp.fit(training_ann_ppsf)\n",
        "\n",
        "df_pred_ppsf = mlp_model.transform(test_ann_ppsf)\n",
        "df_pred_ppsf = df_pred_ppsf.select('features','label','rawPrediction','probability','prediction')\n",
        "df_pred_ppsf.show(truncate=False)\n",
        "\n",
        "evaluator = MulticlassClassificationEvaluator(labelCol = 'label', predictionCol = 'prediction', metricName = 'accuracy')\n",
        "mlpacc = evaluator.evaluate(df_pred_ppsf)\n",
        "print(mlpacc)"
      ],
      "metadata": {
        "id": "CJd0IQAPwCA0"
      },
      "execution_count": null,
      "outputs": []
    },
    {
      "cell_type": "code",
      "source": [
        "## https://api.census.gov/data/2020/acs/acs5/variables.html lists all the possible variable keys for the API Request\n",
        "## Below provides a DF with the ZIP Code and the Median household income.\n",
        "## Need to initialize spark session first\n",
        "##CODE\n",
        "from pyspark.sql.types import StructType, StructField, StringType, DoubleType\n",
        "import requests\n",
        "from pyspark.sql.types import *\n",
        "from pyspark.sql.functions import from_json\n",
        "import pandas as pd\n",
        "from pyspark.sql.functions import col\n",
        "\n",
        "start_year = 2015\n",
        "end_year = 2018\n",
        "variables = \"B19013_001E,B01002_001E,B01003_001E,B09001_001E,B11009_002E\"\n",
        "year = start_year\n",
        "key  = '46d133e794f5998e012ea4e0d83d6fb6085136b0'\n",
        "geography = 'zip%20code%20tabulation%20area'\n",
        "\n",
        "call = 1\n",
        "\n",
        "while call < 3:\n",
        "  census_API_call = requests.get(f'https://api.census.gov/data/{year}/acs/acs5?get={variables}&for={geography}:*&key={key}')\n",
        "  census_JSON = census_API_call.json()\n",
        "  df = pd.DataFrame(census_JSON[1:], columns = census_JSON[0])\n",
        "  #print(df)\n",
        "  schema = StructType([ StructField(\"B19013_001E\", StringType(), True), StructField(\"B01002_001E\", StringType(), True), StructField(\"B01003_001E\", StringType(), True), StructField(\"B09001_001E\", StringType(), True), StructField(\"B11009_002E\", StringType(), True),StructField(\"State\", StringType(), True),StructField(\"zip code tabulation area\", StringType(), True)])\n",
        "  sparkDF = spark.createDataFrame(df,schema = schema)\n",
        "  #sparkDF.show()\n",
        "  column_title_median_income = f\"Median_Inc_{year}\"\n",
        "  column_title_median_age = f\"Median_Age_{year}\"\n",
        "  column_title_total_pop = f\"Total_Pop_{year}\"\n",
        "  column_title_num_children = f\"Total_Kids_{year}\"\n",
        "  column_title_married_households = f\"Total_Married_{year}\"\n",
        "\n",
        "  if year == start_year:\n",
        "    real_df = sparkDF.select(col(\"zip code tabulation area\").alias(\"Zip_Code\"),col(\"B19013_001E\").alias(column_title_median_income)\\\n",
        "                                ,col(\"B01002_001E\").alias(column_title_median_age)\n",
        "                                ,col(\"B01003_001E\").alias(column_title_total_pop)\n",
        "                                ,col(\"B09001_001E\").alias(column_title_num_children)\n",
        "                                ,col(\"B11009_002E\").alias(column_title_married_households))\n",
        "  \n",
        "  else:\n",
        "    real_df = real_df.join(sparkDF,sparkDF['zip code tabulation area']== real_df.Zip_Code,'left').select(real_df [\"*\"],col(\"B19013_001E\").alias(column_title_median_income)\\\n",
        "                                ,col(\"B01002_001E\").alias(column_title_median_age)\n",
        "                                ,col(\"B01003_001E\").alias(column_title_total_pop)\n",
        "                                ,col(\"B09001_001E\").alias(column_title_num_children)\n",
        "                                ,col(\"B11009_002E\").alias(column_title_married_households))\n",
        "  \n",
        "  #print(year)\n",
        "  year = end_year\n",
        "  call += 1\n",
        "\n",
        "real_df.show()\n"
      ],
      "metadata": {
        "colab": {
          "base_uri": "https://localhost:8080/"
        },
        "id": "vjHIRnw40N0F",
        "outputId": "2c24e5b1-c4c8-4835-e616-0756695b159e"
      },
      "execution_count": 76,
      "outputs": [
        {
          "output_type": "stream",
          "name": "stdout",
          "text": [
            "+--------+---------------+---------------+--------------+---------------+------------------+---------------+---------------+--------------+---------------+------------------+\n",
            "|Zip_Code|Median_Inc_2015|Median_Age_2015|Total_Pop_2015|Total_Kids_2015|Total_Married_2015|Median_Inc_2018|Median_Age_2018|Total_Pop_2018|Total_Kids_2018|Total_Married_2018|\n",
            "+--------+---------------+---------------+--------------+---------------+------------------+---------------+---------------+--------------+---------------+------------------+\n",
            "|   02053|         110241|           41.7|         13069|           3275|                87|         119450|           42.6|         13244|           3279|               147|\n",
            "|   02090|         135884|           45.8|         15094|           4115|               151|         155887|           44.9|         15880|           4134|               172|\n",
            "|   03442|          63958|           35.8|          1424|            447|                13|          61818|           38.2|          1407|            302|                68|\n",
            "|   03904|          61934|           44.7|          7963|           1333|               157|          69702|           41.2|          7860|           1391|               169|\n",
            "|   04438|          38594|           41.3|          1097|            213|                69|          44375|           42.8|          1001|            137|                80|\n",
            "|   06382|          58953|           43.0|         11727|           2037|               257|          68598|           43.2|         11971|           2062|               268|\n",
            "|   06518|          76759|           32.0|         19431|           2560|               374|          76938|           30.6|         19488|           2397|               267|\n",
            "|   07820|     -666666666|   -666666666.0|            41|              0|                 0|     -666666666|           31.6|            36|              0|                 0|\n",
            "|   08648|          85090|           39.2|         32315|           6411|               415|         102633|           39.9|         31725|           5759|               335|\n",
            "|   11563|          85194|           43.0|         22985|           4817|               352|          97169|           43.9|         21965|           4393|               318|\n",
            "|   11722|          66570|           33.6|         35855|           9299|               795|          69360|           34.8|         32524|           7821|               566|\n",
            "|   12529|          62143|           49.9|          2644|            490|               105|          69018|           49.1|          2730|            442|               109|\n",
            "|   12847|          62917|           53.3|           389|             52|                 0|          59375|           54.0|           413|             72|                 4|\n",
            "|   13865|          60399|           45.1|          6350|           1344|               170|          62629|           44.2|          6135|           1439|               163|\n",
            "|   14204|          26269|           42.3|          8934|           2086|               170|          23886|           42.9|          8649|           1899|               122|\n",
            "|   14838|          55057|           42.0|          2064|            480|                65|          60368|           45.6|          1786|            359|               103|\n",
            "|   15555|          27188|           32.9|           115|             20|                23|     -666666666|           47.5|           100|             14|                26|\n",
            "|   15634|          58125|           35.1|           573|            168|                 0|          16250|           51.1|           235|             18|                 0|\n",
            "|   16250|          20417|           47.1|           268|             60|                 4|          21250|           33.3|           571|            162|                31|\n",
            "|   16504|          40915|           38.7|         16417|           3427|               431|          41281|           36.9|         15650|           3411|               458|\n",
            "+--------+---------------+---------------+--------------+---------------+------------------+---------------+---------------+--------------+---------------+------------------+\n",
            "only showing top 20 rows\n",
            "\n"
          ]
        }
      ]
    },
    {
      "cell_type": "code",
      "source": [
        "from pyspark.sql.functions import countDistinct, col\n",
        "census_real = real_df.withColumnRenamed('Zip_Code', 'Zip_Code_Census')\\\n",
        ".withColumnRenamed('Median_Inc_2015', 'Median_Income_2015').withColumnRenamed('Median_Inc_2018', 'Median_Income_2018')\n",
        "census_real_3 =census_real.where(col('Median_Income_2015') != -666666666)\\\n",
        ".where(col('Median_Age_2015') != -666666666)\\\n",
        ".where(col('Total_Pop_2015') != -666666666)\\\n",
        ".where(col('Total_Kids_2015') != -666666666)\\\n",
        ".where(col('Total_Married_2015') != -666666666)\\\n",
        ".where(col('Median_Income_2018') != -666666666)\\\n",
        ".where(col('Median_Age_2018') != -666666666)\\\n",
        ".where(col('Total_Pop_2018') != -666666666)\\\n",
        ".where(col('Total_Kids_2018') != -666666666)\\\n",
        ".where(col('Total_Married_2018') != -666666666)\n",
        "\n",
        "census_data_raw_real = census_real_3.dropna()\n",
        "census_data_raw_real.show()\n",
        "#census_real_3.show()"
      ],
      "metadata": {
        "colab": {
          "base_uri": "https://localhost:8080/"
        },
        "id": "KAPfMzVo0T_i",
        "outputId": "50e1a2a7-4627-45f2-a515-902d920f5c54"
      },
      "execution_count": 77,
      "outputs": [
        {
          "output_type": "stream",
          "name": "stdout",
          "text": [
            "+---------------+------------------+---------------+--------------+---------------+------------------+------------------+---------------+--------------+---------------+------------------+\n",
            "|Zip_Code_Census|Median_Income_2015|Median_Age_2015|Total_Pop_2015|Total_Kids_2015|Total_Married_2015|Median_Income_2018|Median_Age_2018|Total_Pop_2018|Total_Kids_2018|Total_Married_2018|\n",
            "+---------------+------------------+---------------+--------------+---------------+------------------+------------------+---------------+--------------+---------------+------------------+\n",
            "|          02053|            110241|           41.7|         13069|           3275|                87|            119450|           42.6|         13244|           3279|               147|\n",
            "|          02090|            135884|           45.8|         15094|           4115|               151|            155887|           44.9|         15880|           4134|               172|\n",
            "|          03442|             63958|           35.8|          1424|            447|                13|             61818|           38.2|          1407|            302|                68|\n",
            "|          03904|             61934|           44.7|          7963|           1333|               157|             69702|           41.2|          7860|           1391|               169|\n",
            "|          04438|             38594|           41.3|          1097|            213|                69|             44375|           42.8|          1001|            137|                80|\n",
            "|          06382|             58953|           43.0|         11727|           2037|               257|             68598|           43.2|         11971|           2062|               268|\n",
            "|          06518|             76759|           32.0|         19431|           2560|               374|             76938|           30.6|         19488|           2397|               267|\n",
            "|          08648|             85090|           39.2|         32315|           6411|               415|            102633|           39.9|         31725|           5759|               335|\n",
            "|          11563|             85194|           43.0|         22985|           4817|               352|             97169|           43.9|         21965|           4393|               318|\n",
            "|          11722|             66570|           33.6|         35855|           9299|               795|             69360|           34.8|         32524|           7821|               566|\n",
            "|          12529|             62143|           49.9|          2644|            490|               105|             69018|           49.1|          2730|            442|               109|\n",
            "|          12847|             62917|           53.3|           389|             52|                 0|             59375|           54.0|           413|             72|                 4|\n",
            "|          13865|             60399|           45.1|          6350|           1344|               170|             62629|           44.2|          6135|           1439|               163|\n",
            "|          14204|             26269|           42.3|          8934|           2086|               170|             23886|           42.9|          8649|           1899|               122|\n",
            "|          14838|             55057|           42.0|          2064|            480|                65|             60368|           45.6|          1786|            359|               103|\n",
            "|          15634|             58125|           35.1|           573|            168|                 0|             16250|           51.1|           235|             18|                 0|\n",
            "|          16250|             20417|           47.1|           268|             60|                 4|             21250|           33.3|           571|            162|                31|\n",
            "|          16504|             40915|           38.7|         16417|           3427|               431|             41281|           36.9|         15650|           3411|               458|\n",
            "|          17401|             25506|           28.1|         18214|           5897|               806|             26715|           28.8|         17766|           5473|               685|\n",
            "|          18509|             40855|           35.3|         13417|           2486|               233|             47852|           36.4|         13744|           2503|               370|\n",
            "+---------------+------------------+---------------+--------------+---------------+------------------+------------------+---------------+--------------+---------------+------------------+\n",
            "only showing top 20 rows\n",
            "\n"
          ]
        }
      ]
    },
    {
      "cell_type": "code",
      "source": [
        "census_data_real_transorm_1 = census_data_raw_real.withColumn('Median_Income_Delta', (census_data_raw_real.Median_Income_2018 - census_data_raw_real.Median_Income_2015))\\\n",
        ".withColumn('Median_Age_Delta', (census_data_raw_real.Median_Age_2018 - census_data_raw_real.Median_Age_2015))\\\n",
        ".withColumn('Total_Pop_Delta', (census_data_raw_real.Total_Pop_2018 - census_data_raw_real.Total_Pop_2015))\\\n",
        ".withColumn('Total_Kids_Delta', (census_data_raw_real.Total_Kids_2018 - census_data_raw_real.Total_Kids_2015))\\\n",
        ".withColumn('Total_Married_Delta', (census_data_raw_real.Total_Married_2018 - census_data_raw_real.Total_Married_2015))\n",
        "\n",
        "census_data_deltas_real = census_data_real_transorm_1.select(census_data_real_transorm_1.Zip_Code_Census,census_data_real_transorm_1.Median_Income_Delta.cast('float'),census_data_real_transorm_1.Median_Age_Delta.cast('float'),census_data_real_transorm_1.Total_Pop_Delta.cast('float'),census_data_real_transorm_1.Total_Kids_Delta.cast('float'),census_data_real_transorm_1.Total_Married_Delta.cast('float'))\n",
        "census_data_deltas_real.show()\n",
        "census_data_deltas_real.printSchema()"
      ],
      "metadata": {
        "colab": {
          "base_uri": "https://localhost:8080/"
        },
        "id": "lyw7Vg0j0ent",
        "outputId": "ddcdf78c-2d5d-4a27-cb19-a16a2edc46c5"
      },
      "execution_count": 78,
      "outputs": [
        {
          "output_type": "stream",
          "name": "stdout",
          "text": [
            "+---------------+-------------------+----------------+---------------+----------------+-------------------+\n",
            "|Zip_Code_Census|Median_Income_Delta|Median_Age_Delta|Total_Pop_Delta|Total_Kids_Delta|Total_Married_Delta|\n",
            "+---------------+-------------------+----------------+---------------+----------------+-------------------+\n",
            "|          02053|             9209.0|             0.9|          175.0|             4.0|               60.0|\n",
            "|          02090|            20003.0|            -0.9|          786.0|            19.0|               21.0|\n",
            "|          03442|            -2140.0|             2.4|          -17.0|          -145.0|               55.0|\n",
            "|          03904|             7768.0|            -3.5|         -103.0|            58.0|               12.0|\n",
            "|          04438|             5781.0|             1.5|          -96.0|           -76.0|               11.0|\n",
            "|          06382|             9645.0|             0.2|          244.0|            25.0|               11.0|\n",
            "|          06518|              179.0|            -1.4|           57.0|          -163.0|             -107.0|\n",
            "|          08648|            17543.0|             0.7|         -590.0|          -652.0|              -80.0|\n",
            "|          11563|            11975.0|             0.9|        -1020.0|          -424.0|              -34.0|\n",
            "|          11722|             2790.0|             1.2|        -3331.0|         -1478.0|             -229.0|\n",
            "|          12529|             6875.0|            -0.8|           86.0|           -48.0|                4.0|\n",
            "|          12847|            -3542.0|             0.7|           24.0|            20.0|                4.0|\n",
            "|          13865|             2230.0|            -0.9|         -215.0|            95.0|               -7.0|\n",
            "|          14204|            -2383.0|             0.6|         -285.0|          -187.0|              -48.0|\n",
            "|          14838|             5311.0|             3.6|         -278.0|          -121.0|               38.0|\n",
            "|          15634|           -41875.0|            16.0|         -338.0|          -150.0|                0.0|\n",
            "|          16250|              833.0|           -13.8|          303.0|           102.0|               27.0|\n",
            "|          16504|              366.0|            -1.8|         -767.0|           -16.0|               27.0|\n",
            "|          17401|             1209.0|             0.7|         -448.0|          -424.0|             -121.0|\n",
            "|          18509|             6997.0|             1.1|          327.0|            17.0|              137.0|\n",
            "+---------------+-------------------+----------------+---------------+----------------+-------------------+\n",
            "only showing top 20 rows\n",
            "\n",
            "root\n",
            " |-- Zip_Code_Census: string (nullable = true)\n",
            " |-- Median_Income_Delta: float (nullable = true)\n",
            " |-- Median_Age_Delta: float (nullable = true)\n",
            " |-- Total_Pop_Delta: float (nullable = true)\n",
            " |-- Total_Kids_Delta: float (nullable = true)\n",
            " |-- Total_Married_Delta: float (nullable = true)\n",
            "\n"
          ]
        }
      ]
    },
    {
      "cell_type": "code",
      "source": [
        "property_type_id = df_merged.select(\"property_type_id\",'property_type').distinct()\n",
        "property_type_id.show()"
      ],
      "metadata": {
        "colab": {
          "base_uri": "https://localhost:8080/"
        },
        "id": "KpciYRM02eKs",
        "outputId": "a3cca37a-8605-4402-f9bc-d63ccf2c83e5"
      },
      "execution_count": 81,
      "outputs": [
        {
          "output_type": "stream",
          "name": "stdout",
          "text": [
            "+----------------+--------------------+\n",
            "|property_type_id|       property_type|\n",
            "+----------------+--------------------+\n",
            "|              13|           Townhouse|\n",
            "|              -1|     All Residential|\n",
            "|               6|Single Family Res...|\n",
            "|               4|Multi-Family (2-4...|\n",
            "|               3|         Condo/Co-op|\n",
            "+----------------+--------------------+\n",
            "\n"
          ]
        }
      ]
    },
    {
      "cell_type": "code",
      "source": [
        "from pyspark.ml.feature import VectorAssembler\n",
        "from pyspark.sql.functions import col,lit\n",
        "prop_type_id = '6'\n",
        "census_data_deltas_real = census_data_deltas_real.withColumn('prop_type_id', lit(prop_type_id))\n",
        "vectorAssembler = VectorAssembler(inputCols = ['prop_type_id','Median_Income_Delta','Median_Age_Delta','Total_Pop_Delta','Total_Kids_Delta','Total_Married_Delta'], outputCol = 'features')\n",
        "vectored_df = vectorAssembler.transform(census_data_deltas_real)"
      ],
      "metadata": {
        "id": "IoL23P_K4g3f"
      },
      "execution_count": 86,
      "outputs": []
    },
    {
      "cell_type": "code",
      "source": [
        "df_pred_sales = mlp_model_sales.transform(vectored_df)\n",
        "df_pred_sales = df_pred_sales#.select('features','label','rawPrediction','probability','prediction')\n",
        "df_pred_sales.show()\n"
      ],
      "metadata": {
        "colab": {
          "base_uri": "https://localhost:8080/"
        },
        "id": "FD2D5j3XBp1J",
        "outputId": "030e6574-4612-4e3b-d62f-eea30436cff6"
      },
      "execution_count": 87,
      "outputs": [
        {
          "output_type": "stream",
          "name": "stdout",
          "text": [
            "+---------------+-------------------+----------------+---------------+----------------+-------------------+------------+--------------------+--------------------+--------------------+----------+\n",
            "|Zip_Code_Census|Median_Income_Delta|Median_Age_Delta|Total_Pop_Delta|Total_Kids_Delta|Total_Married_Delta|prop_type_id|            features|       rawPrediction|         probability|prediction|\n",
            "+---------------+-------------------+----------------+---------------+----------------+-------------------+------------+--------------------+--------------------+--------------------+----------+\n",
            "|          02053|             9209.0|             0.9|          175.0|             4.0|               60.0|           6|[6.0,9209.0,0.899...|[2.64895421257875...|[0.91797709476904...|       0.0|\n",
            "|          02090|            20003.0|            -0.9|          786.0|            19.0|               21.0|           6|[6.0,20003.0,-0.8...|[2.64895421257875...|[0.91797709476904...|       0.0|\n",
            "|          03442|            -2140.0|             2.4|          -17.0|          -145.0|               55.0|           6|[6.0,-2140.0,2.40...|[2.21917280421792...|[0.86462582980481...|       0.0|\n",
            "|          03904|             7768.0|            -3.5|         -103.0|            58.0|               12.0|           6|[6.0,7768.0,-3.5,...|[2.64895421257875...|[0.91797709476904...|       0.0|\n",
            "|          04438|             5781.0|             1.5|          -96.0|           -76.0|               11.0|           6|[6.0,5781.0,1.5,-...|[2.64895421257875...|[0.91797709476904...|       0.0|\n",
            "|          06382|             9645.0|             0.2|          244.0|            25.0|               11.0|           6|[6.0,9645.0,0.200...|[2.64895421257875...|[0.91797709476904...|       0.0|\n",
            "|          06518|              179.0|            -1.4|           57.0|          -163.0|             -107.0|           6|[6.0,179.0,-1.399...|[2.64894539961023...|[0.91797639482619...|       0.0|\n",
            "|          08648|            17543.0|             0.7|         -590.0|          -652.0|              -80.0|           6|[6.0,17543.0,0.69...|[2.64895421257875...|[0.91797709476904...|       0.0|\n",
            "|          11563|            11975.0|             0.9|        -1020.0|          -424.0|              -34.0|           6|[6.0,11975.0,0.89...|[2.64895421257875...|[0.91797709476904...|       0.0|\n",
            "|          11722|             2790.0|             1.2|        -3331.0|         -1478.0|             -229.0|           6|[6.0,2790.0,1.200...|[2.23292903889028...|[0.87801841884570...|       0.0|\n",
            "|          12529|             6875.0|            -0.8|           86.0|           -48.0|                4.0|           6|[6.0,6875.0,-0.80...|[2.64895421257875...|[0.91797709476904...|       0.0|\n",
            "|          12847|            -3542.0|             0.7|           24.0|            20.0|                4.0|           6|[6.0,-3542.0,0.69...|[2.21917280421792...|[0.86462582980481...|       0.0|\n",
            "|          13865|             2230.0|            -0.9|         -215.0|            95.0|               -7.0|           6|[6.0,2230.0,-0.89...|[2.64895421257875...|[0.91797709476904...|       0.0|\n",
            "|          14204|            -2383.0|             0.6|         -285.0|          -187.0|              -48.0|           6|[6.0,-2383.0,0.60...|[2.21917280421792...|[0.86462582980481...|       0.0|\n",
            "|          14838|             5311.0|             3.6|         -278.0|          -121.0|               38.0|           6|[6.0,5311.0,3.599...|[2.64895421257875...|[0.91797709476904...|       0.0|\n",
            "|          15634|           -41875.0|            16.0|         -338.0|          -150.0|                0.0|           6|[6.0,-41875.0,16....|[2.21917280421792...|[0.86462582980481...|       0.0|\n",
            "|          16250|              833.0|           -13.8|          303.0|           102.0|               27.0|           6|[6.0,833.0,-13.80...|[2.64895421257875...|[0.91797709476904...|       0.0|\n",
            "|          16504|              366.0|            -1.8|         -767.0|           -16.0|               27.0|           6|[6.0,366.0,-1.799...|[1.91632077649007...|[0.79071729422559...|       0.0|\n",
            "|          17401|             1209.0|             0.7|         -448.0|          -424.0|             -121.0|           6|[6.0,1209.0,0.699...|[2.32317114195811...|[0.88732359774750...|       0.0|\n",
            "|          18509|             6997.0|             1.1|          327.0|            17.0|              137.0|           6|[6.0,6997.0,1.100...|[2.64895421257875...|[0.91797709476904...|       0.0|\n",
            "+---------------+-------------------+----------------+---------------+----------------+-------------------+------------+--------------------+--------------------+--------------------+----------+\n",
            "only showing top 20 rows\n",
            "\n"
          ]
        }
      ]
    },
    {
      "cell_type": "code",
      "source": [
        "df_pred_sales.select('prediction').distinct().show()"
      ],
      "metadata": {
        "colab": {
          "base_uri": "https://localhost:8080/"
        },
        "id": "-tpmTG3FB2tH",
        "outputId": "04a2fc95-da3a-4e56-c917-b7fac497291b"
      },
      "execution_count": 90,
      "outputs": [
        {
          "output_type": "stream",
          "name": "stdout",
          "text": [
            "+----------+\n",
            "|prediction|\n",
            "+----------+\n",
            "|       0.0|\n",
            "+----------+\n",
            "\n"
          ]
        }
      ]
    }
  ]
}